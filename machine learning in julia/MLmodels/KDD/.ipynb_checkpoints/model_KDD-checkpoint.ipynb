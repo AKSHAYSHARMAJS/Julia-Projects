{
 "cells": [
  {
   "cell_type": "code",
   "execution_count": 1,
   "id": "bearing-reduction",
   "metadata": {},
   "outputs": [],
   "source": [
    "using DataFrames\n",
    "using ScikitLearn: fit!, predict, @sk_import\n",
    "using CSV"
   ]
  },
  {
   "cell_type": "code",
   "execution_count": 2,
   "id": "compound-tract",
   "metadata": {
    "scrolled": true
   },
   "outputs": [
    {
     "data": {
      "text/html": [
       "<table class=\"data-frame\"><thead><tr><th></th><th>Column1</th><th>Column2</th><th>Column3</th><th>Column4</th><th>Column5</th><th>Column6</th><th>Column7</th><th>Column8</th><th>Column9</th></tr><tr><th></th><th>Int64</th><th>String</th><th>String</th><th>String</th><th>Int64</th><th>Int64</th><th>Int64</th><th>Int64</th><th>Int64</th></tr></thead><tbody><p>494,021 rows × 42 columns (omitted printing of 33 columns)</p><tr><th>1</th><td>0</td><td>tcp</td><td>http</td><td>SF</td><td>181</td><td>5450</td><td>0</td><td>0</td><td>0</td></tr><tr><th>2</th><td>0</td><td>tcp</td><td>http</td><td>SF</td><td>239</td><td>486</td><td>0</td><td>0</td><td>0</td></tr><tr><th>3</th><td>0</td><td>tcp</td><td>http</td><td>SF</td><td>235</td><td>1337</td><td>0</td><td>0</td><td>0</td></tr><tr><th>4</th><td>0</td><td>tcp</td><td>http</td><td>SF</td><td>219</td><td>1337</td><td>0</td><td>0</td><td>0</td></tr><tr><th>5</th><td>0</td><td>tcp</td><td>http</td><td>SF</td><td>217</td><td>2032</td><td>0</td><td>0</td><td>0</td></tr><tr><th>6</th><td>0</td><td>tcp</td><td>http</td><td>SF</td><td>217</td><td>2032</td><td>0</td><td>0</td><td>0</td></tr><tr><th>7</th><td>0</td><td>tcp</td><td>http</td><td>SF</td><td>212</td><td>1940</td><td>0</td><td>0</td><td>0</td></tr><tr><th>8</th><td>0</td><td>tcp</td><td>http</td><td>SF</td><td>159</td><td>4087</td><td>0</td><td>0</td><td>0</td></tr><tr><th>9</th><td>0</td><td>tcp</td><td>http</td><td>SF</td><td>210</td><td>151</td><td>0</td><td>0</td><td>0</td></tr><tr><th>10</th><td>0</td><td>tcp</td><td>http</td><td>SF</td><td>212</td><td>786</td><td>0</td><td>0</td><td>0</td></tr><tr><th>11</th><td>0</td><td>tcp</td><td>http</td><td>SF</td><td>210</td><td>624</td><td>0</td><td>0</td><td>0</td></tr><tr><th>12</th><td>0</td><td>tcp</td><td>http</td><td>SF</td><td>177</td><td>1985</td><td>0</td><td>0</td><td>0</td></tr><tr><th>13</th><td>0</td><td>tcp</td><td>http</td><td>SF</td><td>222</td><td>773</td><td>0</td><td>0</td><td>0</td></tr><tr><th>14</th><td>0</td><td>tcp</td><td>http</td><td>SF</td><td>256</td><td>1169</td><td>0</td><td>0</td><td>0</td></tr><tr><th>15</th><td>0</td><td>tcp</td><td>http</td><td>SF</td><td>241</td><td>259</td><td>0</td><td>0</td><td>0</td></tr><tr><th>16</th><td>0</td><td>tcp</td><td>http</td><td>SF</td><td>260</td><td>1837</td><td>0</td><td>0</td><td>0</td></tr><tr><th>17</th><td>0</td><td>tcp</td><td>http</td><td>SF</td><td>241</td><td>261</td><td>0</td><td>0</td><td>0</td></tr><tr><th>18</th><td>0</td><td>tcp</td><td>http</td><td>SF</td><td>257</td><td>818</td><td>0</td><td>0</td><td>0</td></tr><tr><th>19</th><td>0</td><td>tcp</td><td>http</td><td>SF</td><td>233</td><td>255</td><td>0</td><td>0</td><td>0</td></tr><tr><th>20</th><td>0</td><td>tcp</td><td>http</td><td>SF</td><td>233</td><td>504</td><td>0</td><td>0</td><td>0</td></tr><tr><th>21</th><td>0</td><td>tcp</td><td>http</td><td>SF</td><td>256</td><td>1273</td><td>0</td><td>0</td><td>0</td></tr><tr><th>22</th><td>0</td><td>tcp</td><td>http</td><td>SF</td><td>234</td><td>255</td><td>0</td><td>0</td><td>0</td></tr><tr><th>23</th><td>0</td><td>tcp</td><td>http</td><td>SF</td><td>241</td><td>259</td><td>0</td><td>0</td><td>0</td></tr><tr><th>24</th><td>0</td><td>tcp</td><td>http</td><td>SF</td><td>239</td><td>968</td><td>0</td><td>0</td><td>0</td></tr><tr><th>25</th><td>0</td><td>tcp</td><td>http</td><td>SF</td><td>245</td><td>1919</td><td>0</td><td>0</td><td>0</td></tr><tr><th>26</th><td>0</td><td>tcp</td><td>http</td><td>SF</td><td>248</td><td>2129</td><td>0</td><td>0</td><td>0</td></tr><tr><th>27</th><td>0</td><td>tcp</td><td>http</td><td>SF</td><td>354</td><td>1752</td><td>0</td><td>0</td><td>0</td></tr><tr><th>28</th><td>0</td><td>tcp</td><td>http</td><td>SF</td><td>193</td><td>3991</td><td>0</td><td>0</td><td>0</td></tr><tr><th>29</th><td>0</td><td>tcp</td><td>http</td><td>SF</td><td>214</td><td>14959</td><td>0</td><td>0</td><td>0</td></tr><tr><th>30</th><td>0</td><td>tcp</td><td>http</td><td>SF</td><td>212</td><td>1309</td><td>0</td><td>0</td><td>0</td></tr><tr><th>&vellip;</th><td>&vellip;</td><td>&vellip;</td><td>&vellip;</td><td>&vellip;</td><td>&vellip;</td><td>&vellip;</td><td>&vellip;</td><td>&vellip;</td><td>&vellip;</td></tr></tbody></table>"
      ],
      "text/latex": [
       "\\begin{tabular}{r|cccccccccc}\n",
       "\t& Column1 & Column2 & Column3 & Column4 & Column5 & Column6 & Column7 & Column8 & Column9 & \\\\\n",
       "\t\\hline\n",
       "\t& Int64 & String & String & String & Int64 & Int64 & Int64 & Int64 & Int64 & \\\\\n",
       "\t\\hline\n",
       "\t1 & 0 & tcp & http & SF & 181 & 5450 & 0 & 0 & 0 & $\\dots$ \\\\\n",
       "\t2 & 0 & tcp & http & SF & 239 & 486 & 0 & 0 & 0 & $\\dots$ \\\\\n",
       "\t3 & 0 & tcp & http & SF & 235 & 1337 & 0 & 0 & 0 & $\\dots$ \\\\\n",
       "\t4 & 0 & tcp & http & SF & 219 & 1337 & 0 & 0 & 0 & $\\dots$ \\\\\n",
       "\t5 & 0 & tcp & http & SF & 217 & 2032 & 0 & 0 & 0 & $\\dots$ \\\\\n",
       "\t6 & 0 & tcp & http & SF & 217 & 2032 & 0 & 0 & 0 & $\\dots$ \\\\\n",
       "\t7 & 0 & tcp & http & SF & 212 & 1940 & 0 & 0 & 0 & $\\dots$ \\\\\n",
       "\t8 & 0 & tcp & http & SF & 159 & 4087 & 0 & 0 & 0 & $\\dots$ \\\\\n",
       "\t9 & 0 & tcp & http & SF & 210 & 151 & 0 & 0 & 0 & $\\dots$ \\\\\n",
       "\t10 & 0 & tcp & http & SF & 212 & 786 & 0 & 0 & 0 & $\\dots$ \\\\\n",
       "\t11 & 0 & tcp & http & SF & 210 & 624 & 0 & 0 & 0 & $\\dots$ \\\\\n",
       "\t12 & 0 & tcp & http & SF & 177 & 1985 & 0 & 0 & 0 & $\\dots$ \\\\\n",
       "\t13 & 0 & tcp & http & SF & 222 & 773 & 0 & 0 & 0 & $\\dots$ \\\\\n",
       "\t14 & 0 & tcp & http & SF & 256 & 1169 & 0 & 0 & 0 & $\\dots$ \\\\\n",
       "\t15 & 0 & tcp & http & SF & 241 & 259 & 0 & 0 & 0 & $\\dots$ \\\\\n",
       "\t16 & 0 & tcp & http & SF & 260 & 1837 & 0 & 0 & 0 & $\\dots$ \\\\\n",
       "\t17 & 0 & tcp & http & SF & 241 & 261 & 0 & 0 & 0 & $\\dots$ \\\\\n",
       "\t18 & 0 & tcp & http & SF & 257 & 818 & 0 & 0 & 0 & $\\dots$ \\\\\n",
       "\t19 & 0 & tcp & http & SF & 233 & 255 & 0 & 0 & 0 & $\\dots$ \\\\\n",
       "\t20 & 0 & tcp & http & SF & 233 & 504 & 0 & 0 & 0 & $\\dots$ \\\\\n",
       "\t21 & 0 & tcp & http & SF & 256 & 1273 & 0 & 0 & 0 & $\\dots$ \\\\\n",
       "\t22 & 0 & tcp & http & SF & 234 & 255 & 0 & 0 & 0 & $\\dots$ \\\\\n",
       "\t23 & 0 & tcp & http & SF & 241 & 259 & 0 & 0 & 0 & $\\dots$ \\\\\n",
       "\t24 & 0 & tcp & http & SF & 239 & 968 & 0 & 0 & 0 & $\\dots$ \\\\\n",
       "\t25 & 0 & tcp & http & SF & 245 & 1919 & 0 & 0 & 0 & $\\dots$ \\\\\n",
       "\t26 & 0 & tcp & http & SF & 248 & 2129 & 0 & 0 & 0 & $\\dots$ \\\\\n",
       "\t27 & 0 & tcp & http & SF & 354 & 1752 & 0 & 0 & 0 & $\\dots$ \\\\\n",
       "\t28 & 0 & tcp & http & SF & 193 & 3991 & 0 & 0 & 0 & $\\dots$ \\\\\n",
       "\t29 & 0 & tcp & http & SF & 214 & 14959 & 0 & 0 & 0 & $\\dots$ \\\\\n",
       "\t30 & 0 & tcp & http & SF & 212 & 1309 & 0 & 0 & 0 & $\\dots$ \\\\\n",
       "\t$\\dots$ & $\\dots$ & $\\dots$ & $\\dots$ & $\\dots$ & $\\dots$ & $\\dots$ & $\\dots$ & $\\dots$ & $\\dots$ &  \\\\\n",
       "\\end{tabular}\n"
      ],
      "text/plain": [
       "\u001b[1m494021×42 DataFrame\u001b[0m\n",
       "\u001b[1m    Row \u001b[0m│\u001b[1m Column1 \u001b[0m\u001b[1m Column2 \u001b[0m\u001b[1m Column3 \u001b[0m\u001b[1m Column4 \u001b[0m\u001b[1m Column5 \u001b[0m\u001b[1m Column6 \u001b[0m\u001b[1m Column7 \u001b[0m\u001b[1m Colum\u001b[0m ⋯\n",
       "\u001b[1m        \u001b[0m│\u001b[90m Int64   \u001b[0m\u001b[90m String  \u001b[0m\u001b[90m String  \u001b[0m\u001b[90m String  \u001b[0m\u001b[90m Int64   \u001b[0m\u001b[90m Int64   \u001b[0m\u001b[90m Int64   \u001b[0m\u001b[90m Int64\u001b[0m ⋯\n",
       "────────┼───────────────────────────────────────────────────────────────────────\n",
       "      1 │       0  tcp      http     SF           181     5450        0        ⋯\n",
       "      2 │       0  tcp      http     SF           239      486        0\n",
       "      3 │       0  tcp      http     SF           235     1337        0\n",
       "      4 │       0  tcp      http     SF           219     1337        0\n",
       "      5 │       0  tcp      http     SF           217     2032        0        ⋯\n",
       "      6 │       0  tcp      http     SF           217     2032        0\n",
       "      7 │       0  tcp      http     SF           212     1940        0\n",
       "      8 │       0  tcp      http     SF           159     4087        0\n",
       "      9 │       0  tcp      http     SF           210      151        0        ⋯\n",
       "     10 │       0  tcp      http     SF           212      786        0\n",
       "     11 │       0  tcp      http     SF           210      624        0\n",
       "   ⋮    │    ⋮        ⋮        ⋮        ⋮        ⋮        ⋮        ⋮        ⋮  ⋱\n",
       " 494012 │       0  tcp      http     SF           308      662        0\n",
       " 494013 │       0  tcp      http     SF           291     1862        0        ⋯\n",
       " 494014 │       0  tcp      http     SF           289      244        0\n",
       " 494015 │       0  tcp      http     SF           306      662        0\n",
       " 494016 │       0  tcp      http     SF           289     1862        0\n",
       " 494017 │       0  tcp      http     SF           310     1881        0        ⋯\n",
       " 494018 │       0  tcp      http     SF           282     2286        0\n",
       " 494019 │       0  tcp      http     SF           203     1200        0\n",
       " 494020 │       0  tcp      http     SF           291     1200        0\n",
       " 494021 │       0  tcp      http     SF           219     1234        0        ⋯\n",
       "\u001b[36m                                              35 columns and 494000 rows omitted\u001b[0m"
      ]
     },
     "execution_count": 2,
     "metadata": {},
     "output_type": "execute_result"
    }
   ],
   "source": [
    "data = DataFrame(CSV.File(\"../../kddcup.data_10_percent\"; header=0))"
   ]
  },
  {
   "cell_type": "code",
   "execution_count": 10,
   "id": "municipal-looking",
   "metadata": {},
   "outputs": [],
   "source": [
    "for i = 1:size(data)[1]\n",
    "    if (data[i,42] == \"normal.\")\n",
    "        data[i,42] = \"normal\"\n",
    "    else\n",
    "        data[i,42] = \"attack\"\n",
    "    end\n",
    "end\n"
   ]
  },
  {
   "cell_type": "code",
   "execution_count": 12,
   "id": "unusual-victor",
   "metadata": {},
   "outputs": [],
   "source": [
    "@sk_import preprocessing: LabelEncoder\n",
    "enc = LabelEncoder()\n",
    "for i in [2,3,4,42]\n",
    "    data[!,i] = enc.fit_transform(data[!,i])\n",
    "end"
   ]
  },
  {
   "cell_type": "code",
   "execution_count": 13,
   "id": "amateur-exhibition",
   "metadata": {},
   "outputs": [
    {
     "data": {
      "text/plain": [
       "494021-element Array{Int64,1}:\n",
       " 1\n",
       " 1\n",
       " 1\n",
       " 1\n",
       " 1\n",
       " 1\n",
       " 1\n",
       " 1\n",
       " 1\n",
       " 1\n",
       " 1\n",
       " 1\n",
       " 1\n",
       " ⋮\n",
       " 1\n",
       " 1\n",
       " 1\n",
       " 1\n",
       " 1\n",
       " 1\n",
       " 1\n",
       " 1\n",
       " 1\n",
       " 1\n",
       " 1\n",
       " 1"
      ]
     },
     "execution_count": 13,
     "metadata": {},
     "output_type": "execute_result"
    }
   ],
   "source": [
    "data_x = convert(Array, data[:,Not(42)])\n",
    "data_y = convert(Array, data[:,42])"
   ]
  },
  {
   "cell_type": "code",
   "execution_count": 14,
   "id": "flexible-collapse",
   "metadata": {},
   "outputs": [
    {
     "name": "stderr",
     "output_type": "stream",
     "text": [
      "┌ Warning: Module model_selection has been ported to Julia - try `import ScikitLearn: CrossValidation` instead\n",
      "└ @ ScikitLearn.Skcore /Users/akshaysharma/.julia/packages/ScikitLearn/NJwUf/src/Skcore.jl:179\n"
     ]
    },
    {
     "data": {
      "text/plain": [
       "4-element Array{Array,1}:\n",
       " [0.0 0.0 … 0.0 0.0; 0.0 0.0 … 0.0 0.0; … ; 0.0 1.0 … 0.0 0.0; 0.0 1.0 … 0.0 0.0]\n",
       " [0.0 0.0 … 0.0 0.0; 0.0 0.0 … 0.0 0.0; … ; 0.0 1.0 … 0.0 0.0; 0.0 0.0 … 0.0 0.0]\n",
       " [0, 0, 0, 0, 0, 0, 0, 0, 1, 0  …  1, 0, 0, 0, 0, 1, 0, 0, 1, 0]\n",
       " [0, 0, 0, 0, 0, 0, 0, 0, 0, 1  …  1, 0, 0, 0, 0, 0, 0, 0, 1, 0]"
      ]
     },
     "execution_count": 14,
     "metadata": {},
     "output_type": "execute_result"
    }
   ],
   "source": [
    "@sk_import model_selection: train_test_split\n",
    "x_train, x_test, y_train, y_test = train_test_split(data_x, data_y, test_size=0.3, random_state=1)"
   ]
  },
  {
   "cell_type": "markdown",
   "id": "protective-myanmar",
   "metadata": {},
   "source": [
    "# Naive Bayesian Classifier"
   ]
  },
  {
   "cell_type": "code",
   "execution_count": 15,
   "id": "ongoing-judge",
   "metadata": {},
   "outputs": [
    {
     "data": {
      "text/plain": [
       "PyObject GaussianNB()"
      ]
     },
     "execution_count": 15,
     "metadata": {},
     "output_type": "execute_result"
    }
   ],
   "source": [
    "@sk_import naive_bayes: GaussianNB\n",
    "model = GaussianNB()"
   ]
  },
  {
   "cell_type": "code",
   "execution_count": 16,
   "id": "narrative-amount",
   "metadata": {},
   "outputs": [
    {
     "data": {
      "text/plain": [
       "PyObject GaussianNB()"
      ]
     },
     "execution_count": 16,
     "metadata": {},
     "output_type": "execute_result"
    }
   ],
   "source": [
    "fit!(model, x_train, y_train)"
   ]
  },
  {
   "cell_type": "markdown",
   "id": "tracked-alpha",
   "metadata": {},
   "source": [
    "### Performance on Testing Dataset"
   ]
  },
  {
   "cell_type": "code",
   "execution_count": 17,
   "id": "legendary-third",
   "metadata": {},
   "outputs": [
    {
     "name": "stdout",
     "output_type": "stream",
     "text": [
      "  0.375503 seconds (28.78 k allocations: 2.684 MiB)\n"
     ]
    },
    {
     "data": {
      "text/plain": [
       "148207-element Array{Int64,1}:\n",
       " 0\n",
       " 0\n",
       " 0\n",
       " 0\n",
       " 0\n",
       " 0\n",
       " 0\n",
       " 0\n",
       " 0\n",
       " 1\n",
       " 1\n",
       " 0\n",
       " 0\n",
       " ⋮\n",
       " 0\n",
       " 0\n",
       " 1\n",
       " 0\n",
       " 0\n",
       " 0\n",
       " 0\n",
       " 0\n",
       " 1\n",
       " 0\n",
       " 1\n",
       " 0"
      ]
     },
     "execution_count": 17,
     "metadata": {},
     "output_type": "execute_result"
    }
   ],
   "source": [
    "@time predictions_test = predict(model, x_test)"
   ]
  },
  {
   "cell_type": "code",
   "execution_count": 18,
   "id": "circular-playback",
   "metadata": {},
   "outputs": [
    {
     "data": {
      "text/plain": [
       "0.9792992233835109"
      ]
     },
     "execution_count": 18,
     "metadata": {},
     "output_type": "execute_result"
    }
   ],
   "source": [
    "@sk_import metrics: accuracy_score\n",
    "accuracy = accuracy_score(predictions_test, y_test)"
   ]
  },
  {
   "cell_type": "markdown",
   "id": "spiritual-avatar",
   "metadata": {},
   "source": [
    "### Performance on Training Dataset"
   ]
  },
  {
   "cell_type": "code",
   "execution_count": 19,
   "id": "checked-promotion",
   "metadata": {},
   "outputs": [
    {
     "name": "stdout",
     "output_type": "stream",
     "text": [
      "  0.564727 seconds (37 allocations: 2.640 MiB)\n"
     ]
    },
    {
     "data": {
      "text/plain": [
       "345814-element Array{Int64,1}:\n",
       " 0\n",
       " 0\n",
       " 0\n",
       " 0\n",
       " 0\n",
       " 0\n",
       " 0\n",
       " 0\n",
       " 1\n",
       " 0\n",
       " 0\n",
       " 0\n",
       " 0\n",
       " ⋮\n",
       " 0\n",
       " 0\n",
       " 1\n",
       " 0\n",
       " 0\n",
       " 1\n",
       " 0\n",
       " 1\n",
       " 0\n",
       " 0\n",
       " 1\n",
       " 0"
      ]
     },
     "execution_count": 19,
     "metadata": {},
     "output_type": "execute_result"
    }
   ],
   "source": [
    "@time predictions_train = predict(model, x_train)"
   ]
  },
  {
   "cell_type": "code",
   "execution_count": 20,
   "id": "instant-disease",
   "metadata": {},
   "outputs": [
    {
     "name": "stderr",
     "output_type": "stream",
     "text": [
      "WARNING: redefinition of constant accuracy_score. This may fail, cause incorrect answers, or produce other errors.\n"
     ]
    },
    {
     "data": {
      "text/plain": [
       "0.9798301977363554"
      ]
     },
     "execution_count": 20,
     "metadata": {},
     "output_type": "execute_result"
    }
   ],
   "source": [
    "@sk_import metrics: accuracy_score\n",
    "accuracy = accuracy_score(predictions_train, y_train)"
   ]
  },
  {
   "cell_type": "code",
   "execution_count": 21,
   "id": "nonprofit-brooks",
   "metadata": {},
   "outputs": [
    {
     "name": "stdout",
     "output_type": "stream",
     "text": [
      "1898 bytes"
     ]
    }
   ],
   "source": [
    "using PyCall\n",
    "@pyimport pickle\n",
    "p = pickle.dumps(model)\n",
    "print(sizeof(p),\" bytes\")"
   ]
  },
  {
   "cell_type": "markdown",
   "id": "bibliographic-watch",
   "metadata": {},
   "source": [
    "# Decision Tree Classifier"
   ]
  },
  {
   "cell_type": "code",
   "execution_count": 22,
   "id": "russian-correlation",
   "metadata": {},
   "outputs": [
    {
     "data": {
      "text/plain": [
       "PyObject DecisionTreeClassifier()"
      ]
     },
     "execution_count": 22,
     "metadata": {},
     "output_type": "execute_result"
    }
   ],
   "source": [
    "@sk_import tree: DecisionTreeClassifier\n",
    "model = DecisionTreeClassifier()"
   ]
  },
  {
   "cell_type": "code",
   "execution_count": 23,
   "id": "theoretical-plant",
   "metadata": {},
   "outputs": [
    {
     "data": {
      "text/plain": [
       "PyObject DecisionTreeClassifier()"
      ]
     },
     "execution_count": 23,
     "metadata": {},
     "output_type": "execute_result"
    }
   ],
   "source": [
    "fit!(model, x_train, y_train)"
   ]
  },
  {
   "cell_type": "markdown",
   "id": "architectural-stack",
   "metadata": {},
   "source": [
    "### Performance On Testing Dataset"
   ]
  },
  {
   "cell_type": "code",
   "execution_count": 24,
   "id": "advised-present",
   "metadata": {},
   "outputs": [
    {
     "name": "stdout",
     "output_type": "stream",
     "text": [
      "  0.071465 seconds (37 allocations: 1.132 MiB)\n"
     ]
    },
    {
     "data": {
      "text/plain": [
       "148207-element Array{Int64,1}:\n",
       " 0\n",
       " 0\n",
       " 0\n",
       " 0\n",
       " 0\n",
       " 0\n",
       " 0\n",
       " 0\n",
       " 0\n",
       " 1\n",
       " 1\n",
       " 0\n",
       " 0\n",
       " ⋮\n",
       " 0\n",
       " 0\n",
       " 1\n",
       " 0\n",
       " 0\n",
       " 0\n",
       " 0\n",
       " 0\n",
       " 0\n",
       " 0\n",
       " 1\n",
       " 0"
      ]
     },
     "execution_count": 24,
     "metadata": {},
     "output_type": "execute_result"
    }
   ],
   "source": [
    "@time predictions_test = predict(model, x_test)"
   ]
  },
  {
   "cell_type": "code",
   "execution_count": 25,
   "id": "broke-shakespeare",
   "metadata": {},
   "outputs": [
    {
     "name": "stderr",
     "output_type": "stream",
     "text": [
      "WARNING: redefinition of constant accuracy_score. This may fail, cause incorrect answers, or produce other errors.\n"
     ]
    },
    {
     "data": {
      "text/plain": [
       "0.9996221501008724"
      ]
     },
     "execution_count": 25,
     "metadata": {},
     "output_type": "execute_result"
    }
   ],
   "source": [
    "@sk_import metrics: accuracy_score\n",
    "accuracy = accuracy_score(predictions_test, y_test)"
   ]
  },
  {
   "cell_type": "markdown",
   "id": "following-wireless",
   "metadata": {},
   "source": [
    "### Performance On Training Dataset"
   ]
  },
  {
   "cell_type": "code",
   "execution_count": 26,
   "id": "weekly-interference",
   "metadata": {},
   "outputs": [
    {
     "name": "stdout",
     "output_type": "stream",
     "text": [
      "  0.104063 seconds (40 allocations: 2.641 MiB)\n"
     ]
    },
    {
     "data": {
      "text/plain": [
       "345814-element Array{Int64,1}:\n",
       " 0\n",
       " 0\n",
       " 0\n",
       " 0\n",
       " 0\n",
       " 0\n",
       " 0\n",
       " 0\n",
       " 1\n",
       " 0\n",
       " 0\n",
       " 0\n",
       " 0\n",
       " ⋮\n",
       " 0\n",
       " 0\n",
       " 1\n",
       " 0\n",
       " 0\n",
       " 0\n",
       " 0\n",
       " 1\n",
       " 0\n",
       " 0\n",
       " 1\n",
       " 0"
      ]
     },
     "execution_count": 26,
     "metadata": {},
     "output_type": "execute_result"
    }
   ],
   "source": [
    "@time predictions_train = predict(model, x_train)"
   ]
  },
  {
   "cell_type": "code",
   "execution_count": 27,
   "id": "indoor-nightmare",
   "metadata": {},
   "outputs": [
    {
     "name": "stderr",
     "output_type": "stream",
     "text": [
      "WARNING: redefinition of constant accuracy_score. This may fail, cause incorrect answers, or produce other errors.\n"
     ]
    },
    {
     "data": {
      "text/plain": [
       "1.0"
      ]
     },
     "execution_count": 27,
     "metadata": {},
     "output_type": "execute_result"
    }
   ],
   "source": [
    "@sk_import metrics: accuracy_score\n",
    "accuracy = accuracy_score(predictions_train, y_train)"
   ]
  },
  {
   "cell_type": "code",
   "execution_count": 28,
   "id": "unsigned-sympathy",
   "metadata": {},
   "outputs": [
    {
     "name": "stdout",
     "output_type": "stream",
     "text": [
      "21048 bytes"
     ]
    }
   ],
   "source": [
    "using PyCall\n",
    "@pyimport pickle\n",
    "p = pickle.dumps(model)\n",
    "print(sizeof(p),\" bytes\")"
   ]
  },
  {
   "cell_type": "markdown",
   "id": "neural-frank",
   "metadata": {},
   "source": [
    "# Support Vector Machine"
   ]
  },
  {
   "cell_type": "code",
   "execution_count": 29,
   "id": "silent-shooting",
   "metadata": {},
   "outputs": [
    {
     "data": {
      "text/plain": [
       "PyObject LinearSVC(max_iter=10)"
      ]
     },
     "execution_count": 29,
     "metadata": {},
     "output_type": "execute_result"
    }
   ],
   "source": [
    "@sk_import svm: LinearSVC\n",
    "model = LinearSVC(max_iter = 10)"
   ]
  },
  {
   "cell_type": "code",
   "execution_count": 30,
   "id": "sorted-distinction",
   "metadata": {},
   "outputs": [
    {
     "data": {
      "text/plain": [
       "PyObject LinearSVC(max_iter=10)"
      ]
     },
     "execution_count": 30,
     "metadata": {},
     "output_type": "execute_result"
    }
   ],
   "source": [
    "fit!(model, x_train, y_train)"
   ]
  },
  {
   "cell_type": "markdown",
   "id": "received-peace",
   "metadata": {},
   "source": [
    "### Performance on Testing Dataset"
   ]
  },
  {
   "cell_type": "code",
   "execution_count": 31,
   "id": "narrative-secretariat",
   "metadata": {},
   "outputs": [
    {
     "name": "stdout",
     "output_type": "stream",
     "text": [
      "  0.019503 seconds (37 allocations: 1.132 MiB)\n"
     ]
    },
    {
     "data": {
      "text/plain": [
       "148207-element Array{Int64,1}:\n",
       " 0\n",
       " 0\n",
       " 0\n",
       " 0\n",
       " 0\n",
       " 0\n",
       " 0\n",
       " 0\n",
       " 0\n",
       " 1\n",
       " 1\n",
       " 0\n",
       " 0\n",
       " ⋮\n",
       " 0\n",
       " 0\n",
       " 1\n",
       " 0\n",
       " 0\n",
       " 0\n",
       " 0\n",
       " 0\n",
       " 1\n",
       " 0\n",
       " 1\n",
       " 0"
      ]
     },
     "execution_count": 31,
     "metadata": {},
     "output_type": "execute_result"
    }
   ],
   "source": [
    "@time predictions_test = predict(model, x_test)"
   ]
  },
  {
   "cell_type": "code",
   "execution_count": 32,
   "id": "sunset-sailing",
   "metadata": {},
   "outputs": [
    {
     "name": "stderr",
     "output_type": "stream",
     "text": [
      "WARNING: redefinition of constant accuracy_score. This may fail, cause incorrect answers, or produce other errors.\n"
     ]
    },
    {
     "data": {
      "text/plain": [
       "0.986606570539853"
      ]
     },
     "execution_count": 32,
     "metadata": {},
     "output_type": "execute_result"
    }
   ],
   "source": [
    "@sk_import metrics: accuracy_score\n",
    "accuracy = accuracy_score(predictions_test, y_test)"
   ]
  },
  {
   "cell_type": "markdown",
   "id": "plain-permit",
   "metadata": {},
   "source": [
    "### Performance on Training Dataset"
   ]
  },
  {
   "cell_type": "code",
   "execution_count": 33,
   "id": "atlantic-calcium",
   "metadata": {},
   "outputs": [
    {
     "name": "stdout",
     "output_type": "stream",
     "text": [
      "  0.032613 seconds (37 allocations: 2.640 MiB)\n"
     ]
    },
    {
     "data": {
      "text/plain": [
       "345814-element Array{Int64,1}:\n",
       " 0\n",
       " 0\n",
       " 0\n",
       " 0\n",
       " 0\n",
       " 0\n",
       " 0\n",
       " 0\n",
       " 1\n",
       " 0\n",
       " 0\n",
       " 0\n",
       " 0\n",
       " ⋮\n",
       " 0\n",
       " 0\n",
       " 1\n",
       " 0\n",
       " 0\n",
       " 1\n",
       " 0\n",
       " 1\n",
       " 0\n",
       " 0\n",
       " 1\n",
       " 0"
      ]
     },
     "execution_count": 33,
     "metadata": {},
     "output_type": "execute_result"
    }
   ],
   "source": [
    "@time predictions_train = predict(model, x_train)"
   ]
  },
  {
   "cell_type": "code",
   "execution_count": 34,
   "id": "residential-brother",
   "metadata": {},
   "outputs": [
    {
     "name": "stderr",
     "output_type": "stream",
     "text": [
      "WARNING: redefinition of constant accuracy_score. This may fail, cause incorrect answers, or produce other errors.\n"
     ]
    },
    {
     "data": {
      "text/plain": [
       "0.9867356440167258"
      ]
     },
     "execution_count": 34,
     "metadata": {},
     "output_type": "execute_result"
    }
   ],
   "source": [
    "@sk_import metrics: accuracy_score\n",
    "accuracy = accuracy_score(predictions_train, y_train)"
   ]
  },
  {
   "cell_type": "code",
   "execution_count": 35,
   "id": "adverse-folks",
   "metadata": {},
   "outputs": [
    {
     "name": "stdout",
     "output_type": "stream",
     "text": [
      "982 bytes"
     ]
    }
   ],
   "source": [
    "using PyCall\n",
    "@pyimport pickle\n",
    "p = pickle.dumps(model)\n",
    "print(sizeof(p),\" bytes\")"
   ]
  },
  {
   "cell_type": "markdown",
   "id": "polished-vatican",
   "metadata": {},
   "source": [
    "# Neural Networks"
   ]
  },
  {
   "cell_type": "code",
   "execution_count": 36,
   "id": "falling-mattress",
   "metadata": {},
   "outputs": [
    {
     "data": {
      "text/plain": [
       "PyObject MLPClassifier(max_iter=10)"
      ]
     },
     "execution_count": 36,
     "metadata": {},
     "output_type": "execute_result"
    }
   ],
   "source": [
    "@sk_import neural_network: MLPClassifier\n",
    "model = MLPClassifier(max_iter=10)"
   ]
  },
  {
   "cell_type": "code",
   "execution_count": 37,
   "id": "compound-boulder",
   "metadata": {},
   "outputs": [
    {
     "name": "stdout",
     "output_type": "stream",
     "text": [
      " 30.458623 seconds (21 allocations: 1.109 KiB)\n"
     ]
    },
    {
     "data": {
      "text/plain": [
       "PyObject MLPClassifier(max_iter=10)"
      ]
     },
     "execution_count": 37,
     "metadata": {},
     "output_type": "execute_result"
    }
   ],
   "source": [
    "@time fit!(model, x_train, y_train)"
   ]
  },
  {
   "cell_type": "markdown",
   "id": "approved-harmony",
   "metadata": {},
   "source": [
    "### Performance On Testing Dataset"
   ]
  },
  {
   "cell_type": "code",
   "execution_count": 38,
   "id": "collective-swift",
   "metadata": {},
   "outputs": [
    {
     "name": "stdout",
     "output_type": "stream",
     "text": [
      "  0.353128 seconds (37 allocations: 1.132 MiB)\n"
     ]
    },
    {
     "data": {
      "text/plain": [
       "148207-element Array{Int64,1}:\n",
       " 0\n",
       " 0\n",
       " 0\n",
       " 0\n",
       " 0\n",
       " 0\n",
       " 0\n",
       " 0\n",
       " 0\n",
       " 1\n",
       " 1\n",
       " 0\n",
       " 0\n",
       " ⋮\n",
       " 0\n",
       " 0\n",
       " 1\n",
       " 0\n",
       " 0\n",
       " 0\n",
       " 0\n",
       " 0\n",
       " 1\n",
       " 0\n",
       " 1\n",
       " 0"
      ]
     },
     "execution_count": 38,
     "metadata": {},
     "output_type": "execute_result"
    }
   ],
   "source": [
    "@time predictions_test = predict(model, x_test)"
   ]
  },
  {
   "cell_type": "code",
   "execution_count": 39,
   "id": "found-actor",
   "metadata": {},
   "outputs": [
    {
     "name": "stderr",
     "output_type": "stream",
     "text": [
      "WARNING: redefinition of constant accuracy_score. This may fail, cause incorrect answers, or produce other errors.\n"
     ]
    },
    {
     "data": {
      "text/plain": [
       "0.9973483033864797"
      ]
     },
     "execution_count": 39,
     "metadata": {},
     "output_type": "execute_result"
    }
   ],
   "source": [
    "@sk_import metrics: accuracy_score\n",
    "accuracy = accuracy_score(predictions_test, y_test)"
   ]
  },
  {
   "cell_type": "markdown",
   "id": "gorgeous-bibliography",
   "metadata": {},
   "source": [
    "### Performance On Training Dataset"
   ]
  },
  {
   "cell_type": "code",
   "execution_count": 40,
   "id": "three-asthma",
   "metadata": {},
   "outputs": [
    {
     "name": "stdout",
     "output_type": "stream",
     "text": [
      "  0.750473 seconds (37 allocations: 2.640 MiB)\n"
     ]
    },
    {
     "data": {
      "text/plain": [
       "345814-element Array{Int64,1}:\n",
       " 0\n",
       " 0\n",
       " 0\n",
       " 0\n",
       " 0\n",
       " 0\n",
       " 0\n",
       " 0\n",
       " 1\n",
       " 0\n",
       " 0\n",
       " 0\n",
       " 0\n",
       " ⋮\n",
       " 0\n",
       " 0\n",
       " 1\n",
       " 0\n",
       " 0\n",
       " 1\n",
       " 0\n",
       " 1\n",
       " 0\n",
       " 0\n",
       " 1\n",
       " 0"
      ]
     },
     "execution_count": 40,
     "metadata": {},
     "output_type": "execute_result"
    }
   ],
   "source": [
    "@time predictions_train = predict(model, x_train)"
   ]
  },
  {
   "cell_type": "code",
   "execution_count": 41,
   "id": "ethical-forth",
   "metadata": {},
   "outputs": [
    {
     "name": "stderr",
     "output_type": "stream",
     "text": [
      "WARNING: redefinition of constant accuracy_score. This may fail, cause incorrect answers, or produce other errors.\n"
     ]
    },
    {
     "data": {
      "text/plain": [
       "0.9973829862295917"
      ]
     },
     "execution_count": 41,
     "metadata": {},
     "output_type": "execute_result"
    }
   ],
   "source": [
    "@sk_import metrics: accuracy_score\n",
    "accuracy = accuracy_score(predictions_train, y_train)"
   ]
  },
  {
   "cell_type": "code",
   "execution_count": 42,
   "id": "blind-patrick",
   "metadata": {},
   "outputs": [
    {
     "name": "stdout",
     "output_type": "stream",
     "text": [
      "107879 bytes"
     ]
    }
   ],
   "source": [
    "using PyCall\n",
    "@pyimport pickle\n",
    "p = pickle.dumps(model)\n",
    "print(sizeof(p),\" bytes\")"
   ]
  },
  {
   "cell_type": "code",
   "execution_count": null,
   "id": "governmental-outreach",
   "metadata": {},
   "outputs": [],
   "source": []
  }
 ],
 "metadata": {
  "kernelspec": {
   "display_name": "Julia 1.5.3",
   "language": "julia",
   "name": "julia-1.5"
  },
  "language_info": {
   "file_extension": ".jl",
   "mimetype": "application/julia",
   "name": "julia",
   "version": "1.5.3"
  }
 },
 "nbformat": 4,
 "nbformat_minor": 5
}
