{
 "cells": [
  {
   "cell_type": "code",
   "execution_count": 11,
   "id": "leading-implement",
   "metadata": {},
   "outputs": [],
   "source": [
    "using DataFrames\n",
    "using ScikitLearn: fit!, predict, @sk_import\n",
    "using CSV\n",
    "using Lathe"
   ]
  },
  {
   "cell_type": "code",
   "execution_count": 116,
   "id": "eligible-average",
   "metadata": {},
   "outputs": [
    {
     "data": {
      "text/html": [
       "<table class=\"data-frame\"><thead><tr><th></th><th>buying</th><th>maint</th><th>doors</th><th>persons</th><th>lug_boot</th><th>safety</th><th>class_values</th></tr><tr><th></th><th>String</th><th>String</th><th>String</th><th>String</th><th>String</th><th>String</th><th>String</th></tr></thead><tbody><p>1,728 rows × 7 columns</p><tr><th>1</th><td>vhigh</td><td>vhigh</td><td>2</td><td>2</td><td>small</td><td>low</td><td>unacc</td></tr><tr><th>2</th><td>vhigh</td><td>vhigh</td><td>2</td><td>2</td><td>small</td><td>med</td><td>unacc</td></tr><tr><th>3</th><td>vhigh</td><td>vhigh</td><td>2</td><td>2</td><td>small</td><td>high</td><td>unacc</td></tr><tr><th>4</th><td>vhigh</td><td>vhigh</td><td>2</td><td>2</td><td>med</td><td>low</td><td>unacc</td></tr><tr><th>5</th><td>vhigh</td><td>vhigh</td><td>2</td><td>2</td><td>med</td><td>med</td><td>unacc</td></tr><tr><th>6</th><td>vhigh</td><td>vhigh</td><td>2</td><td>2</td><td>med</td><td>high</td><td>unacc</td></tr><tr><th>7</th><td>vhigh</td><td>vhigh</td><td>2</td><td>2</td><td>big</td><td>low</td><td>unacc</td></tr><tr><th>8</th><td>vhigh</td><td>vhigh</td><td>2</td><td>2</td><td>big</td><td>med</td><td>unacc</td></tr><tr><th>9</th><td>vhigh</td><td>vhigh</td><td>2</td><td>2</td><td>big</td><td>high</td><td>unacc</td></tr><tr><th>10</th><td>vhigh</td><td>vhigh</td><td>2</td><td>4</td><td>small</td><td>low</td><td>unacc</td></tr><tr><th>11</th><td>vhigh</td><td>vhigh</td><td>2</td><td>4</td><td>small</td><td>med</td><td>unacc</td></tr><tr><th>12</th><td>vhigh</td><td>vhigh</td><td>2</td><td>4</td><td>small</td><td>high</td><td>unacc</td></tr><tr><th>13</th><td>vhigh</td><td>vhigh</td><td>2</td><td>4</td><td>med</td><td>low</td><td>unacc</td></tr><tr><th>14</th><td>vhigh</td><td>vhigh</td><td>2</td><td>4</td><td>med</td><td>med</td><td>unacc</td></tr><tr><th>15</th><td>vhigh</td><td>vhigh</td><td>2</td><td>4</td><td>med</td><td>high</td><td>unacc</td></tr><tr><th>16</th><td>vhigh</td><td>vhigh</td><td>2</td><td>4</td><td>big</td><td>low</td><td>unacc</td></tr><tr><th>17</th><td>vhigh</td><td>vhigh</td><td>2</td><td>4</td><td>big</td><td>med</td><td>unacc</td></tr><tr><th>18</th><td>vhigh</td><td>vhigh</td><td>2</td><td>4</td><td>big</td><td>high</td><td>unacc</td></tr><tr><th>19</th><td>vhigh</td><td>vhigh</td><td>2</td><td>more</td><td>small</td><td>low</td><td>unacc</td></tr><tr><th>20</th><td>vhigh</td><td>vhigh</td><td>2</td><td>more</td><td>small</td><td>med</td><td>unacc</td></tr><tr><th>21</th><td>vhigh</td><td>vhigh</td><td>2</td><td>more</td><td>small</td><td>high</td><td>unacc</td></tr><tr><th>22</th><td>vhigh</td><td>vhigh</td><td>2</td><td>more</td><td>med</td><td>low</td><td>unacc</td></tr><tr><th>23</th><td>vhigh</td><td>vhigh</td><td>2</td><td>more</td><td>med</td><td>med</td><td>unacc</td></tr><tr><th>24</th><td>vhigh</td><td>vhigh</td><td>2</td><td>more</td><td>med</td><td>high</td><td>unacc</td></tr><tr><th>25</th><td>vhigh</td><td>vhigh</td><td>2</td><td>more</td><td>big</td><td>low</td><td>unacc</td></tr><tr><th>26</th><td>vhigh</td><td>vhigh</td><td>2</td><td>more</td><td>big</td><td>med</td><td>unacc</td></tr><tr><th>27</th><td>vhigh</td><td>vhigh</td><td>2</td><td>more</td><td>big</td><td>high</td><td>unacc</td></tr><tr><th>28</th><td>vhigh</td><td>vhigh</td><td>3</td><td>2</td><td>small</td><td>low</td><td>unacc</td></tr><tr><th>29</th><td>vhigh</td><td>vhigh</td><td>3</td><td>2</td><td>small</td><td>med</td><td>unacc</td></tr><tr><th>30</th><td>vhigh</td><td>vhigh</td><td>3</td><td>2</td><td>small</td><td>high</td><td>unacc</td></tr><tr><th>&vellip;</th><td>&vellip;</td><td>&vellip;</td><td>&vellip;</td><td>&vellip;</td><td>&vellip;</td><td>&vellip;</td><td>&vellip;</td></tr></tbody></table>"
      ],
      "text/latex": [
       "\\begin{tabular}{r|ccccccc}\n",
       "\t& buying & maint & doors & persons & lug\\_boot & safety & class\\_values\\\\\n",
       "\t\\hline\n",
       "\t& String & String & String & String & String & String & String\\\\\n",
       "\t\\hline\n",
       "\t1 & vhigh & vhigh & 2 & 2 & small & low & unacc \\\\\n",
       "\t2 & vhigh & vhigh & 2 & 2 & small & med & unacc \\\\\n",
       "\t3 & vhigh & vhigh & 2 & 2 & small & high & unacc \\\\\n",
       "\t4 & vhigh & vhigh & 2 & 2 & med & low & unacc \\\\\n",
       "\t5 & vhigh & vhigh & 2 & 2 & med & med & unacc \\\\\n",
       "\t6 & vhigh & vhigh & 2 & 2 & med & high & unacc \\\\\n",
       "\t7 & vhigh & vhigh & 2 & 2 & big & low & unacc \\\\\n",
       "\t8 & vhigh & vhigh & 2 & 2 & big & med & unacc \\\\\n",
       "\t9 & vhigh & vhigh & 2 & 2 & big & high & unacc \\\\\n",
       "\t10 & vhigh & vhigh & 2 & 4 & small & low & unacc \\\\\n",
       "\t11 & vhigh & vhigh & 2 & 4 & small & med & unacc \\\\\n",
       "\t12 & vhigh & vhigh & 2 & 4 & small & high & unacc \\\\\n",
       "\t13 & vhigh & vhigh & 2 & 4 & med & low & unacc \\\\\n",
       "\t14 & vhigh & vhigh & 2 & 4 & med & med & unacc \\\\\n",
       "\t15 & vhigh & vhigh & 2 & 4 & med & high & unacc \\\\\n",
       "\t16 & vhigh & vhigh & 2 & 4 & big & low & unacc \\\\\n",
       "\t17 & vhigh & vhigh & 2 & 4 & big & med & unacc \\\\\n",
       "\t18 & vhigh & vhigh & 2 & 4 & big & high & unacc \\\\\n",
       "\t19 & vhigh & vhigh & 2 & more & small & low & unacc \\\\\n",
       "\t20 & vhigh & vhigh & 2 & more & small & med & unacc \\\\\n",
       "\t21 & vhigh & vhigh & 2 & more & small & high & unacc \\\\\n",
       "\t22 & vhigh & vhigh & 2 & more & med & low & unacc \\\\\n",
       "\t23 & vhigh & vhigh & 2 & more & med & med & unacc \\\\\n",
       "\t24 & vhigh & vhigh & 2 & more & med & high & unacc \\\\\n",
       "\t25 & vhigh & vhigh & 2 & more & big & low & unacc \\\\\n",
       "\t26 & vhigh & vhigh & 2 & more & big & med & unacc \\\\\n",
       "\t27 & vhigh & vhigh & 2 & more & big & high & unacc \\\\\n",
       "\t28 & vhigh & vhigh & 3 & 2 & small & low & unacc \\\\\n",
       "\t29 & vhigh & vhigh & 3 & 2 & small & med & unacc \\\\\n",
       "\t30 & vhigh & vhigh & 3 & 2 & small & high & unacc \\\\\n",
       "\t$\\dots$ & $\\dots$ & $\\dots$ & $\\dots$ & $\\dots$ & $\\dots$ & $\\dots$ & $\\dots$ \\\\\n",
       "\\end{tabular}\n"
      ],
      "text/plain": [
       "\u001b[1m1728×7 DataFrame\u001b[0m\n",
       "\u001b[1m  Row \u001b[0m│\u001b[1m buying \u001b[0m\u001b[1m maint  \u001b[0m\u001b[1m doors  \u001b[0m\u001b[1m persons \u001b[0m\u001b[1m lug_boot \u001b[0m\u001b[1m safety \u001b[0m\u001b[1m class_values \u001b[0m\n",
       "\u001b[1m      \u001b[0m│\u001b[90m String \u001b[0m\u001b[90m String \u001b[0m\u001b[90m String \u001b[0m\u001b[90m String  \u001b[0m\u001b[90m String   \u001b[0m\u001b[90m String \u001b[0m\u001b[90m String       \u001b[0m\n",
       "──────┼─────────────────────────────────────────────────────────────────\n",
       "    1 │ vhigh   vhigh   2       2        small     low     unacc\n",
       "    2 │ vhigh   vhigh   2       2        small     med     unacc\n",
       "    3 │ vhigh   vhigh   2       2        small     high    unacc\n",
       "    4 │ vhigh   vhigh   2       2        med       low     unacc\n",
       "    5 │ vhigh   vhigh   2       2        med       med     unacc\n",
       "    6 │ vhigh   vhigh   2       2        med       high    unacc\n",
       "    7 │ vhigh   vhigh   2       2        big       low     unacc\n",
       "    8 │ vhigh   vhigh   2       2        big       med     unacc\n",
       "    9 │ vhigh   vhigh   2       2        big       high    unacc\n",
       "   10 │ vhigh   vhigh   2       4        small     low     unacc\n",
       "   11 │ vhigh   vhigh   2       4        small     med     unacc\n",
       "  ⋮   │   ⋮       ⋮       ⋮        ⋮        ⋮        ⋮          ⋮\n",
       " 1719 │ low     low     5more   4        big       high    vgood\n",
       " 1720 │ low     low     5more   more     small     low     unacc\n",
       " 1721 │ low     low     5more   more     small     med     acc\n",
       " 1722 │ low     low     5more   more     small     high    good\n",
       " 1723 │ low     low     5more   more     med       low     unacc\n",
       " 1724 │ low     low     5more   more     med       med     good\n",
       " 1725 │ low     low     5more   more     med       high    vgood\n",
       " 1726 │ low     low     5more   more     big       low     unacc\n",
       " 1727 │ low     low     5more   more     big       med     good\n",
       " 1728 │ low     low     5more   more     big       high    vgood\n",
       "\u001b[36m                                                       1707 rows omitted\u001b[0m"
      ]
     },
     "execution_count": 116,
     "metadata": {},
     "output_type": "execute_result"
    }
   ],
   "source": [
    "data = DataFrame(CSV.File(\"../../car.data\"; header=[\"buying\", \"maint\", \"doors\", \"persons\", \"lug_boot\", \"safety\",\"class_values\"]))"
   ]
  },
  {
   "cell_type": "code",
   "execution_count": 117,
   "id": "noble-memory",
   "metadata": {},
   "outputs": [
    {
     "name": "stderr",
     "output_type": "stream",
     "text": [
      "WARNING: redefinition of constant LabelEncoder. This may fail, cause incorrect answers, or produce other errors.\n"
     ]
    },
    {
     "data": {
      "text/html": [
       "<table class=\"data-frame\"><thead><tr><th></th><th>buying</th><th>maint</th><th>doors</th><th>persons</th><th>lug_boot</th><th>safety</th><th>class_values</th></tr><tr><th></th><th>Int64</th><th>Int64</th><th>Int64</th><th>Int64</th><th>Int64</th><th>Int64</th><th>Int64</th></tr></thead><tbody><p>1,728 rows × 7 columns</p><tr><th>1</th><td>3</td><td>3</td><td>0</td><td>0</td><td>2</td><td>1</td><td>2</td></tr><tr><th>2</th><td>3</td><td>3</td><td>0</td><td>0</td><td>2</td><td>2</td><td>2</td></tr><tr><th>3</th><td>3</td><td>3</td><td>0</td><td>0</td><td>2</td><td>0</td><td>2</td></tr><tr><th>4</th><td>3</td><td>3</td><td>0</td><td>0</td><td>1</td><td>1</td><td>2</td></tr><tr><th>5</th><td>3</td><td>3</td><td>0</td><td>0</td><td>1</td><td>2</td><td>2</td></tr><tr><th>6</th><td>3</td><td>3</td><td>0</td><td>0</td><td>1</td><td>0</td><td>2</td></tr><tr><th>7</th><td>3</td><td>3</td><td>0</td><td>0</td><td>0</td><td>1</td><td>2</td></tr><tr><th>8</th><td>3</td><td>3</td><td>0</td><td>0</td><td>0</td><td>2</td><td>2</td></tr><tr><th>9</th><td>3</td><td>3</td><td>0</td><td>0</td><td>0</td><td>0</td><td>2</td></tr><tr><th>10</th><td>3</td><td>3</td><td>0</td><td>1</td><td>2</td><td>1</td><td>2</td></tr><tr><th>11</th><td>3</td><td>3</td><td>0</td><td>1</td><td>2</td><td>2</td><td>2</td></tr><tr><th>12</th><td>3</td><td>3</td><td>0</td><td>1</td><td>2</td><td>0</td><td>2</td></tr><tr><th>13</th><td>3</td><td>3</td><td>0</td><td>1</td><td>1</td><td>1</td><td>2</td></tr><tr><th>14</th><td>3</td><td>3</td><td>0</td><td>1</td><td>1</td><td>2</td><td>2</td></tr><tr><th>15</th><td>3</td><td>3</td><td>0</td><td>1</td><td>1</td><td>0</td><td>2</td></tr><tr><th>16</th><td>3</td><td>3</td><td>0</td><td>1</td><td>0</td><td>1</td><td>2</td></tr><tr><th>17</th><td>3</td><td>3</td><td>0</td><td>1</td><td>0</td><td>2</td><td>2</td></tr><tr><th>18</th><td>3</td><td>3</td><td>0</td><td>1</td><td>0</td><td>0</td><td>2</td></tr><tr><th>19</th><td>3</td><td>3</td><td>0</td><td>2</td><td>2</td><td>1</td><td>2</td></tr><tr><th>20</th><td>3</td><td>3</td><td>0</td><td>2</td><td>2</td><td>2</td><td>2</td></tr><tr><th>21</th><td>3</td><td>3</td><td>0</td><td>2</td><td>2</td><td>0</td><td>2</td></tr><tr><th>22</th><td>3</td><td>3</td><td>0</td><td>2</td><td>1</td><td>1</td><td>2</td></tr><tr><th>23</th><td>3</td><td>3</td><td>0</td><td>2</td><td>1</td><td>2</td><td>2</td></tr><tr><th>24</th><td>3</td><td>3</td><td>0</td><td>2</td><td>1</td><td>0</td><td>2</td></tr><tr><th>25</th><td>3</td><td>3</td><td>0</td><td>2</td><td>0</td><td>1</td><td>2</td></tr><tr><th>26</th><td>3</td><td>3</td><td>0</td><td>2</td><td>0</td><td>2</td><td>2</td></tr><tr><th>27</th><td>3</td><td>3</td><td>0</td><td>2</td><td>0</td><td>0</td><td>2</td></tr><tr><th>28</th><td>3</td><td>3</td><td>1</td><td>0</td><td>2</td><td>1</td><td>2</td></tr><tr><th>29</th><td>3</td><td>3</td><td>1</td><td>0</td><td>2</td><td>2</td><td>2</td></tr><tr><th>30</th><td>3</td><td>3</td><td>1</td><td>0</td><td>2</td><td>0</td><td>2</td></tr><tr><th>&vellip;</th><td>&vellip;</td><td>&vellip;</td><td>&vellip;</td><td>&vellip;</td><td>&vellip;</td><td>&vellip;</td><td>&vellip;</td></tr></tbody></table>"
      ],
      "text/latex": [
       "\\begin{tabular}{r|ccccccc}\n",
       "\t& buying & maint & doors & persons & lug\\_boot & safety & class\\_values\\\\\n",
       "\t\\hline\n",
       "\t& Int64 & Int64 & Int64 & Int64 & Int64 & Int64 & Int64\\\\\n",
       "\t\\hline\n",
       "\t1 & 3 & 3 & 0 & 0 & 2 & 1 & 2 \\\\\n",
       "\t2 & 3 & 3 & 0 & 0 & 2 & 2 & 2 \\\\\n",
       "\t3 & 3 & 3 & 0 & 0 & 2 & 0 & 2 \\\\\n",
       "\t4 & 3 & 3 & 0 & 0 & 1 & 1 & 2 \\\\\n",
       "\t5 & 3 & 3 & 0 & 0 & 1 & 2 & 2 \\\\\n",
       "\t6 & 3 & 3 & 0 & 0 & 1 & 0 & 2 \\\\\n",
       "\t7 & 3 & 3 & 0 & 0 & 0 & 1 & 2 \\\\\n",
       "\t8 & 3 & 3 & 0 & 0 & 0 & 2 & 2 \\\\\n",
       "\t9 & 3 & 3 & 0 & 0 & 0 & 0 & 2 \\\\\n",
       "\t10 & 3 & 3 & 0 & 1 & 2 & 1 & 2 \\\\\n",
       "\t11 & 3 & 3 & 0 & 1 & 2 & 2 & 2 \\\\\n",
       "\t12 & 3 & 3 & 0 & 1 & 2 & 0 & 2 \\\\\n",
       "\t13 & 3 & 3 & 0 & 1 & 1 & 1 & 2 \\\\\n",
       "\t14 & 3 & 3 & 0 & 1 & 1 & 2 & 2 \\\\\n",
       "\t15 & 3 & 3 & 0 & 1 & 1 & 0 & 2 \\\\\n",
       "\t16 & 3 & 3 & 0 & 1 & 0 & 1 & 2 \\\\\n",
       "\t17 & 3 & 3 & 0 & 1 & 0 & 2 & 2 \\\\\n",
       "\t18 & 3 & 3 & 0 & 1 & 0 & 0 & 2 \\\\\n",
       "\t19 & 3 & 3 & 0 & 2 & 2 & 1 & 2 \\\\\n",
       "\t20 & 3 & 3 & 0 & 2 & 2 & 2 & 2 \\\\\n",
       "\t21 & 3 & 3 & 0 & 2 & 2 & 0 & 2 \\\\\n",
       "\t22 & 3 & 3 & 0 & 2 & 1 & 1 & 2 \\\\\n",
       "\t23 & 3 & 3 & 0 & 2 & 1 & 2 & 2 \\\\\n",
       "\t24 & 3 & 3 & 0 & 2 & 1 & 0 & 2 \\\\\n",
       "\t25 & 3 & 3 & 0 & 2 & 0 & 1 & 2 \\\\\n",
       "\t26 & 3 & 3 & 0 & 2 & 0 & 2 & 2 \\\\\n",
       "\t27 & 3 & 3 & 0 & 2 & 0 & 0 & 2 \\\\\n",
       "\t28 & 3 & 3 & 1 & 0 & 2 & 1 & 2 \\\\\n",
       "\t29 & 3 & 3 & 1 & 0 & 2 & 2 & 2 \\\\\n",
       "\t30 & 3 & 3 & 1 & 0 & 2 & 0 & 2 \\\\\n",
       "\t$\\dots$ & $\\dots$ & $\\dots$ & $\\dots$ & $\\dots$ & $\\dots$ & $\\dots$ & $\\dots$ \\\\\n",
       "\\end{tabular}\n"
      ],
      "text/plain": [
       "\u001b[1m1728×7 DataFrame\u001b[0m\n",
       "\u001b[1m  Row \u001b[0m│\u001b[1m buying \u001b[0m\u001b[1m maint \u001b[0m\u001b[1m doors \u001b[0m\u001b[1m persons \u001b[0m\u001b[1m lug_boot \u001b[0m\u001b[1m safety \u001b[0m\u001b[1m class_values \u001b[0m\n",
       "\u001b[1m      \u001b[0m│\u001b[90m Int64  \u001b[0m\u001b[90m Int64 \u001b[0m\u001b[90m Int64 \u001b[0m\u001b[90m Int64   \u001b[0m\u001b[90m Int64    \u001b[0m\u001b[90m Int64  \u001b[0m\u001b[90m Int64        \u001b[0m\n",
       "──────┼───────────────────────────────────────────────────────────────\n",
       "    1 │      3      3      0        0         2       1             2\n",
       "    2 │      3      3      0        0         2       2             2\n",
       "    3 │      3      3      0        0         2       0             2\n",
       "    4 │      3      3      0        0         1       1             2\n",
       "    5 │      3      3      0        0         1       2             2\n",
       "    6 │      3      3      0        0         1       0             2\n",
       "    7 │      3      3      0        0         0       1             2\n",
       "    8 │      3      3      0        0         0       2             2\n",
       "    9 │      3      3      0        0         0       0             2\n",
       "   10 │      3      3      0        1         2       1             2\n",
       "   11 │      3      3      0        1         2       2             2\n",
       "  ⋮   │   ⋮       ⋮      ⋮       ⋮        ⋮        ⋮          ⋮\n",
       " 1719 │      1      1      3        1         0       0             3\n",
       " 1720 │      1      1      3        2         2       1             2\n",
       " 1721 │      1      1      3        2         2       2             0\n",
       " 1722 │      1      1      3        2         2       0             1\n",
       " 1723 │      1      1      3        2         1       1             2\n",
       " 1724 │      1      1      3        2         1       2             1\n",
       " 1725 │      1      1      3        2         1       0             3\n",
       " 1726 │      1      1      3        2         0       1             2\n",
       " 1727 │      1      1      3        2         0       2             1\n",
       " 1728 │      1      1      3        2         0       0             3\n",
       "\u001b[36m                                                     1707 rows omitted\u001b[0m"
      ]
     },
     "execution_count": 117,
     "metadata": {},
     "output_type": "execute_result"
    }
   ],
   "source": [
    "@sk_import preprocessing: LabelEncoder\n",
    "enc = LabelEncoder()\n",
    "for i = 1:7\n",
    "    data[!,i] = enc.fit_transform(data[!,i])\n",
    "end"
   ]
  },
  {
   "cell_type": "code",
   "execution_count": 120,
   "id": "returning-riverside",
   "metadata": {},
   "outputs": [
    {
     "data": {
      "text/plain": [
       "1728-element Array{Int64,1}:\n",
       " 2\n",
       " 2\n",
       " 2\n",
       " 2\n",
       " 2\n",
       " 2\n",
       " 2\n",
       " 2\n",
       " 2\n",
       " 2\n",
       " 2\n",
       " 2\n",
       " 2\n",
       " ⋮\n",
       " 2\n",
       " 1\n",
       " 3\n",
       " 2\n",
       " 0\n",
       " 1\n",
       " 2\n",
       " 1\n",
       " 3\n",
       " 2\n",
       " 1\n",
       " 3"
      ]
     },
     "execution_count": 120,
     "metadata": {},
     "output_type": "execute_result"
    }
   ],
   "source": [
    "data_x = convert(Array, data[:,[1,2,3,4,5,6]])\n",
    "data_y = convert(Array, data[:,7])"
   ]
  },
  {
   "cell_type": "code",
   "execution_count": 175,
   "id": "suspected-pontiac",
   "metadata": {},
   "outputs": [
    {
     "name": "stderr",
     "output_type": "stream",
     "text": [
      "┌ Warning: Module model_selection has been ported to Julia - try `import ScikitLearn: CrossValidation` instead\n",
      "└ @ ScikitLearn.Skcore /Users/akshaysharma/.julia/packages/ScikitLearn/NJwUf/src/Skcore.jl:179\n",
      "WARNING: redefinition of constant train_test_split. This may fail, cause incorrect answers, or produce other errors.\n"
     ]
    },
    {
     "data": {
      "text/plain": [
       "4-element Array{Array{Int64,N} where N,1}:\n",
       " [1 0 … 1 1; 0 1 … 1 0; … ; 3 2 … 2 2; 2 0 … 0 0]\n",
       " [2 1 … 2 1; 0 0 … 0 2; … ; 0 3 … 1 0; 3 1 … 0 0]\n",
       " [2, 0, 2, 1, 2, 2, 0, 2, 2, 0  …  2, 2, 2, 2, 1, 0, 0, 0, 2, 2]\n",
       " [2, 0, 2, 2, 2, 0, 2, 2, 0, 2  …  2, 2, 2, 2, 2, 2, 2, 2, 2, 0]"
      ]
     },
     "execution_count": 175,
     "metadata": {},
     "output_type": "execute_result"
    }
   ],
   "source": [
    "@sk_import model_selection: train_test_split\n",
    "x_train, x_test, y_train, y_test = train_test_split(data_x, data_y, test_size=0.3, random_state=1)"
   ]
  },
  {
   "cell_type": "code",
   "execution_count": 176,
   "id": "associate-creature",
   "metadata": {},
   "outputs": [
    {
     "name": "stderr",
     "output_type": "stream",
     "text": [
      "WARNING: redefinition of constant CategoricalNB. This may fail, cause incorrect answers, or produce other errors.\n"
     ]
    },
    {
     "data": {
      "text/plain": [
       "PyObject CategoricalNB()"
      ]
     },
     "execution_count": 176,
     "metadata": {},
     "output_type": "execute_result"
    }
   ],
   "source": [
    "@sk_import naive_bayes: CategoricalNB\n",
    "model = CategoricalNB()"
   ]
  },
  {
   "cell_type": "code",
   "execution_count": 177,
   "id": "floating-accident",
   "metadata": {},
   "outputs": [
    {
     "data": {
      "text/plain": [
       "PyObject CategoricalNB()"
      ]
     },
     "execution_count": 177,
     "metadata": {},
     "output_type": "execute_result"
    }
   ],
   "source": [
    "fit!(model, x_train, y_train)"
   ]
  },
  {
   "cell_type": "code",
   "execution_count": 178,
   "id": "dynamic-original",
   "metadata": {},
   "outputs": [
    {
     "data": {
      "text/plain": [
       "519-element Array{Int64,1}:\n",
       " 2\n",
       " 0\n",
       " 2\n",
       " 2\n",
       " 2\n",
       " 2\n",
       " 2\n",
       " 2\n",
       " 0\n",
       " 2\n",
       " 2\n",
       " 2\n",
       " 2\n",
       " ⋮\n",
       " 2\n",
       " 2\n",
       " 2\n",
       " 2\n",
       " 2\n",
       " 2\n",
       " 2\n",
       " 2\n",
       " 2\n",
       " 2\n",
       " 2\n",
       " 0"
      ]
     },
     "execution_count": 178,
     "metadata": {},
     "output_type": "execute_result"
    }
   ],
   "source": [
    "predictions = predict(model, x_test)"
   ]
  },
  {
   "cell_type": "code",
   "execution_count": 179,
   "id": "italic-aberdeen",
   "metadata": {},
   "outputs": [
    {
     "name": "stderr",
     "output_type": "stream",
     "text": [
      "WARNING: redefinition of constant accuracy_score. This may fail, cause incorrect answers, or produce other errors.\n"
     ]
    },
    {
     "data": {
      "text/plain": [
       "0.8689788053949904"
      ]
     },
     "execution_count": 179,
     "metadata": {},
     "output_type": "execute_result"
    }
   ],
   "source": [
    "@sk_import metrics: accuracy_score\n",
    "accuracy = accuracy_score(predictions, y_test)"
   ]
  }
 ],
 "metadata": {
  "kernelspec": {
   "display_name": "Julia 1.5.3",
   "language": "julia",
   "name": "julia-1.5"
  },
  "language_info": {
   "file_extension": ".jl",
   "mimetype": "application/julia",
   "name": "julia",
   "version": "1.5.3"
  }
 },
 "nbformat": 4,
 "nbformat_minor": 5
}
