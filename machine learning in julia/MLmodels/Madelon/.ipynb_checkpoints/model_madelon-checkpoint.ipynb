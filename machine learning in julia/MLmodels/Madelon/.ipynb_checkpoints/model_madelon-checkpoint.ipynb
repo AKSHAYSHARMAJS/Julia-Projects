{
 "cells": [
  {
   "cell_type": "code",
   "execution_count": 2,
   "id": "bearing-reduction",
   "metadata": {},
   "outputs": [],
   "source": [
    "using DataFrames\n",
    "using ScikitLearn: fit!, predict, @sk_import\n",
    "using CSV"
   ]
  },
  {
   "cell_type": "markdown",
   "id": "cardiac-candy",
   "metadata": {},
   "source": [
    "Loading Madelon dataset.\n",
    "\n",
    "The dataset is already separated as training(\"madelon_train.data\",\"madelon_train.labels\") and testing (\"madelon_valid.data\",\"madelon_valid.labels\")\n",
    "\n",
    "Training dataset contains 2000 rows × 500 columns \n",
    "\n",
    "Testing dataset contains 600 rows × 500 columns\n",
    "\n",
    "(may take around a minute if loading the data for the first time)"
   ]
  },
  {
   "cell_type": "code",
   "execution_count": 3,
   "id": "compound-tract",
   "metadata": {
    "scrolled": true
   },
   "outputs": [
    {
     "data": {
      "text/plain": [
       "2000×500 Array{Int64,2}:\n",
       " 485  477  537  479  452  471  491  476  …  485  511  485  481  479  475  496\n",
       " 483  458  460  487  587  475  526  479     338  513  486  483  492  510  517\n",
       " 487  542  499  468  448  471  442  478     650  506  501  480  489  499  498\n",
       " 480  491  510  485  495  472  417  474     572  454  469  475  482  494  461\n",
       " 484  502  528  489  466  481  402  478     435  486  508  481  504  495  511\n",
       " 481  496  451  480  516  484  484  476  …  435  491  564  482  463  457  500\n",
       " 484  533  498  466  577  482  471  477     648  484  475  479  475  462  484\n",
       " 474  468  598  490  530  482  448  476     351  462  533  480  501  529  489\n",
       " 484  498  558  489  508  478  471  478     633  453  556  458  473  531  440\n",
       " 496  448  570  476  477  481  595  477     576  511  508  478  486  582  496\n",
       " 478  446  457  475  468  475  482  479  …  491  512  476  471  501  550  517\n",
       " 486  479  528  483  530  484  479  477     599  459  452  475  496  505  485\n",
       " 466  486  540  492  500  475  491  474     696  470  503  473  493  506  522\n",
       "   ⋮                        ⋮            ⋱              ⋮                 \n",
       " 482  447  463  485  526  489  429  477     487  529  520  475  485  552  459\n",
       " 486  473  525  486  443  477  458  475     639  522  558  474  477  579  504\n",
       " 475  403  544  488  452  481  541  476  …  438  450  500  461  485  525  510\n",
       " 482  541  590  487  461  483  389  477     304  455  539  480  506  552  478\n",
       " 495  456  538  496  467  495  443  475     488  451  515  485  463  504  507\n",
       " 477  501  518  496  479  472  424  476     736  539  546  482  514  557  540\n",
       " 483  466  588  491  381  476  495  476     715  447  485  468  491  569  452\n",
       " 490  505  503  474  463  461  519  476  …  588  499  506  475  463  507  501\n",
       " 480  475  476  480  495  482  515  479     424  454  570  476  493  465  485\n",
       " 480  517  631  470  485  474  535  476     687  488  488  483  500  523  481\n",
       " 484  481  505  478  542  477  518  477     750  486  529  484  473  527  485\n",
       " 474  493  469  486  521  475  494  479     449  463  533  481  489  516  516"
      ]
     },
     "execution_count": 3,
     "metadata": {},
     "output_type": "execute_result"
    }
   ],
   "source": [
    "x_train = DataFrame(CSV.File(\"../../madelon_train.data\"; header=0))\n",
    "x_train = convert(Array, x_train[:,Not(501)])"
   ]
  },
  {
   "cell_type": "code",
   "execution_count": 4,
   "id": "expired-defense",
   "metadata": {},
   "outputs": [
    {
     "data": {
      "text/plain": [
       "2000×1 Array{Int64,2}:\n",
       " -1\n",
       " -1\n",
       " -1\n",
       "  1\n",
       "  1\n",
       "  1\n",
       "  1\n",
       " -1\n",
       "  1\n",
       " -1\n",
       " -1\n",
       " -1\n",
       "  1\n",
       "  ⋮\n",
       " -1\n",
       "  1\n",
       " -1\n",
       " -1\n",
       " -1\n",
       " -1\n",
       "  1\n",
       "  1\n",
       " -1\n",
       " -1\n",
       "  1\n",
       "  1"
      ]
     },
     "execution_count": 4,
     "metadata": {},
     "output_type": "execute_result"
    }
   ],
   "source": [
    "y_train = DataFrame(CSV.File(\"../../madelon_train.labels\"; header=0))\n",
    "y_train = convert(Array, y_train)"
   ]
  },
  {
   "cell_type": "code",
   "execution_count": 5,
   "id": "novel-haven",
   "metadata": {},
   "outputs": [
    {
     "data": {
      "text/plain": [
       "600×500 Array{Int64,2}:\n",
       " 483  454  513  495  523  469  453  477  …  259  413  520  485  498  523  510\n",
       " 485  508  493  487  478  472  504  476     534  514  452  484  495  548  477\n",
       " 483  521  507  475  493  486  421  475     495  508  528  486  465  508  503\n",
       " 474  504  576  480  553  483  524  478     463  509  525  479  467  552  517\n",
       " 495  474  523  479  495  488  485  476     343  509  520  475  493  506  491\n",
       " 474  507  504  495  428  490  498  478  …  503  410  573  477  461  532  520\n",
       " 481  475  509  478  505  489  499  478     351  489  488  487  465  494  519\n",
       " 486  445  444  468  422  484  464  477     715  492  394  475  474  446  481\n",
       " 482  483  525  477  452  480  488  477     557  449  490  484  490  476  466\n",
       " 487  494  498  480  443  486  418  477     417  532  469  470  480  505  529\n",
       " 481  513  513  464  527  462  510  476  …  409  478  447  478  488  508  467\n",
       " 480  487  513  500  538  476  455  474     484  520  505  482  493  519  522\n",
       " 470  436  452  490  549  476  441  477     329  456  499  477  473  489  477\n",
       "   ⋮                        ⋮            ⋱              ⋮                 \n",
       " 482  426  477  490  545  482  500  476     397  479  520  473  496  532  512\n",
       " 478  502  454  489  466  477  494  475     707  544  520  482  487  523  504\n",
       " 481  457  507  498  503  483  523  475  …  582  489  534  470  495  533  451\n",
       " 486  509  424  481  523  478  465  475     570  512  353  481  480  518  439\n",
       " 482  459  560  494  522  492  442  477     631  511  474  477  520  512  448\n",
       " 475  490  617  487  571  478  491  475     465  497  542  475  497  536  427\n",
       " 472  467  484  468  454  482  426  476     479  487  477  474  495  538  492\n",
       " 493  458  503  478  517  479  472  478  …  443  517  486  474  489  506  506\n",
       " 481  484  481  490  449  481  467  478     599  498  527  481  490  455  451\n",
       " 485  485  530  480  444  487  462  475     368  453  482  478  481  484  517\n",
       " 477  469  528  485  483  469  482  477     638  471  538  470  490  613  492\n",
       " 482  453  515  481  500  493  503  477     694  493  499  474  494  536  526"
      ]
     },
     "execution_count": 5,
     "metadata": {},
     "output_type": "execute_result"
    }
   ],
   "source": [
    "x_test = DataFrame(CSV.File(\"../../madelon_valid.data\"; header=0))\n",
    "x_test = convert(Array, x_test[!,Not(501)])"
   ]
  },
  {
   "cell_type": "code",
   "execution_count": 6,
   "id": "variable-uniform",
   "metadata": {},
   "outputs": [
    {
     "data": {
      "text/plain": [
       "600×1 Array{Int64,2}:\n",
       " -1\n",
       " -1\n",
       " -1\n",
       "  1\n",
       " -1\n",
       "  1\n",
       " -1\n",
       " -1\n",
       " -1\n",
       "  1\n",
       "  1\n",
       "  1\n",
       " -1\n",
       "  ⋮\n",
       "  1\n",
       " -1\n",
       " -1\n",
       "  1\n",
       " -1\n",
       " -1\n",
       "  1\n",
       "  1\n",
       "  1\n",
       "  1\n",
       "  1\n",
       " -1"
      ]
     },
     "execution_count": 6,
     "metadata": {},
     "output_type": "execute_result"
    }
   ],
   "source": [
    "y_test = DataFrame(CSV.File(\"../../madelon_valid.labels\"; header=0))\n",
    "y_test = convert(Array, y_test)"
   ]
  },
  {
   "cell_type": "markdown",
   "id": "protective-myanmar",
   "metadata": {},
   "source": [
    "# Naive Bayesian Classifier"
   ]
  },
  {
   "cell_type": "code",
   "execution_count": 7,
   "id": "ongoing-judge",
   "metadata": {},
   "outputs": [
    {
     "data": {
      "text/plain": [
       "PyObject GaussianNB()"
      ]
     },
     "execution_count": 7,
     "metadata": {},
     "output_type": "execute_result"
    }
   ],
   "source": [
    "@sk_import naive_bayes: GaussianNB\n",
    "model = GaussianNB()"
   ]
  },
  {
   "cell_type": "code",
   "execution_count": 8,
   "id": "narrative-amount",
   "metadata": {},
   "outputs": [
    {
     "data": {
      "text/plain": [
       "PyObject GaussianNB()"
      ]
     },
     "execution_count": 8,
     "metadata": {},
     "output_type": "execute_result"
    }
   ],
   "source": [
    "fit!(model, x_train, y_train)"
   ]
  },
  {
   "cell_type": "markdown",
   "id": "tracked-alpha",
   "metadata": {},
   "source": [
    "### Performance on Testing Dataset"
   ]
  },
  {
   "cell_type": "code",
   "execution_count": 9,
   "id": "legendary-third",
   "metadata": {},
   "outputs": [
    {
     "name": "stdout",
     "output_type": "stream",
     "text": [
      "  0.433858 seconds (791.21 k allocations: 41.888 MiB, 3.59% gc time)\n"
     ]
    },
    {
     "data": {
      "text/plain": [
       "600-element Array{Int64,1}:\n",
       "  1\n",
       " -1\n",
       " -1\n",
       "  1\n",
       "  1\n",
       "  1\n",
       " -1\n",
       " -1\n",
       " -1\n",
       "  1\n",
       "  1\n",
       "  1\n",
       "  1\n",
       "  ⋮\n",
       " -1\n",
       " -1\n",
       " -1\n",
       "  1\n",
       "  1\n",
       " -1\n",
       " -1\n",
       " -1\n",
       " -1\n",
       "  1\n",
       "  1\n",
       " -1"
      ]
     },
     "execution_count": 9,
     "metadata": {},
     "output_type": "execute_result"
    }
   ],
   "source": [
    "@time predictions_test = predict(model, x_test)"
   ]
  },
  {
   "cell_type": "code",
   "execution_count": 10,
   "id": "circular-playback",
   "metadata": {},
   "outputs": [
    {
     "data": {
      "text/plain": [
       "0.5916666666666667"
      ]
     },
     "execution_count": 10,
     "metadata": {},
     "output_type": "execute_result"
    }
   ],
   "source": [
    "@sk_import metrics: accuracy_score\n",
    "accuracy = accuracy_score(predictions_test, y_test)"
   ]
  },
  {
   "cell_type": "markdown",
   "id": "spiritual-avatar",
   "metadata": {},
   "source": [
    "### Performance on Training Dataset"
   ]
  },
  {
   "cell_type": "code",
   "execution_count": 11,
   "id": "checked-promotion",
   "metadata": {},
   "outputs": [
    {
     "name": "stdout",
     "output_type": "stream",
     "text": [
      "  0.044718 seconds (36 allocations: 17.438 KiB)\n"
     ]
    },
    {
     "data": {
      "text/plain": [
       "2000-element Array{Int64,1}:\n",
       " -1\n",
       " -1\n",
       " -1\n",
       "  1\n",
       "  1\n",
       "  1\n",
       " -1\n",
       " -1\n",
       "  1\n",
       " -1\n",
       " -1\n",
       "  1\n",
       " -1\n",
       "  ⋮\n",
       " -1\n",
       "  1\n",
       " -1\n",
       " -1\n",
       " -1\n",
       " -1\n",
       " -1\n",
       " -1\n",
       "  1\n",
       " -1\n",
       " -1\n",
       "  1"
      ]
     },
     "execution_count": 11,
     "metadata": {},
     "output_type": "execute_result"
    }
   ],
   "source": [
    "@time predictions_train = predict(model, x_train)"
   ]
  },
  {
   "cell_type": "code",
   "execution_count": 12,
   "id": "instant-disease",
   "metadata": {},
   "outputs": [
    {
     "name": "stderr",
     "output_type": "stream",
     "text": [
      "WARNING: redefinition of constant accuracy_score. This may fail, cause incorrect answers, or produce other errors.\n"
     ]
    },
    {
     "data": {
      "text/plain": [
       "0.714"
      ]
     },
     "execution_count": 12,
     "metadata": {},
     "output_type": "execute_result"
    }
   ],
   "source": [
    "@sk_import metrics: accuracy_score\n",
    "accuracy = accuracy_score(predictions_train, y_train)"
   ]
  },
  {
   "cell_type": "markdown",
   "id": "accessible-contents",
   "metadata": {},
   "source": [
    "**Size of Naive bayesian model**"
   ]
  },
  {
   "cell_type": "code",
   "execution_count": 13,
   "id": "nonprofit-brooks",
   "metadata": {},
   "outputs": [
    {
     "data": {
      "text/plain": [
       "16589"
      ]
     },
     "execution_count": 13,
     "metadata": {},
     "output_type": "execute_result"
    }
   ],
   "source": [
    "using PyCall\n",
    "@pyimport pickle\n",
    "p = pickle.dumps(model)\n",
    "print(sizeof(p),\" bytes\")"
   ]
  },
  {
   "cell_type": "markdown",
   "id": "bibliographic-watch",
   "metadata": {},
   "source": [
    "# Decision Tree Classifier"
   ]
  },
  {
   "cell_type": "code",
   "execution_count": 14,
   "id": "russian-correlation",
   "metadata": {},
   "outputs": [
    {
     "data": {
      "text/plain": [
       "PyObject DecisionTreeClassifier()"
      ]
     },
     "execution_count": 14,
     "metadata": {},
     "output_type": "execute_result"
    }
   ],
   "source": [
    "@sk_import tree: DecisionTreeClassifier\n",
    "model = DecisionTreeClassifier()"
   ]
  },
  {
   "cell_type": "code",
   "execution_count": 15,
   "id": "theoretical-plant",
   "metadata": {},
   "outputs": [
    {
     "data": {
      "text/plain": [
       "PyObject DecisionTreeClassifier()"
      ]
     },
     "execution_count": 15,
     "metadata": {},
     "output_type": "execute_result"
    }
   ],
   "source": [
    "fit!(model, x_train, y_train)"
   ]
  },
  {
   "cell_type": "markdown",
   "id": "architectural-stack",
   "metadata": {},
   "source": [
    "### Performance On Testing Dataset"
   ]
  },
  {
   "cell_type": "code",
   "execution_count": 16,
   "id": "advised-present",
   "metadata": {},
   "outputs": [
    {
     "name": "stdout",
     "output_type": "stream",
     "text": [
      "  0.003104 seconds (36 allocations: 6.500 KiB)\n"
     ]
    },
    {
     "data": {
      "text/plain": [
       "600-element Array{Int64,1}:\n",
       "  1\n",
       " -1\n",
       " -1\n",
       "  1\n",
       " -1\n",
       "  1\n",
       "  1\n",
       " -1\n",
       " -1\n",
       "  1\n",
       "  1\n",
       "  1\n",
       "  1\n",
       "  ⋮\n",
       "  1\n",
       " -1\n",
       " -1\n",
       "  1\n",
       " -1\n",
       " -1\n",
       " -1\n",
       "  1\n",
       " -1\n",
       "  1\n",
       "  1\n",
       " -1"
      ]
     },
     "execution_count": 16,
     "metadata": {},
     "output_type": "execute_result"
    }
   ],
   "source": [
    "@time predictions_test = predict(model, x_test)"
   ]
  },
  {
   "cell_type": "code",
   "execution_count": 17,
   "id": "broke-shakespeare",
   "metadata": {},
   "outputs": [
    {
     "name": "stderr",
     "output_type": "stream",
     "text": [
      "WARNING: redefinition of constant accuracy_score. This may fail, cause incorrect answers, or produce other errors.\n"
     ]
    },
    {
     "data": {
      "text/plain": [
       "0.76"
      ]
     },
     "execution_count": 17,
     "metadata": {},
     "output_type": "execute_result"
    }
   ],
   "source": [
    "@sk_import metrics: accuracy_score\n",
    "accuracy = accuracy_score(predictions_test, y_test)"
   ]
  },
  {
   "cell_type": "markdown",
   "id": "following-wireless",
   "metadata": {},
   "source": [
    "### Performance On Training Dataset"
   ]
  },
  {
   "cell_type": "code",
   "execution_count": 18,
   "id": "weekly-interference",
   "metadata": {},
   "outputs": [
    {
     "name": "stdout",
     "output_type": "stream",
     "text": [
      "  0.004404 seconds (36 allocations: 17.438 KiB)\n"
     ]
    },
    {
     "data": {
      "text/plain": [
       "2000-element Array{Int64,1}:\n",
       " -1\n",
       " -1\n",
       " -1\n",
       "  1\n",
       "  1\n",
       "  1\n",
       "  1\n",
       " -1\n",
       "  1\n",
       " -1\n",
       " -1\n",
       " -1\n",
       "  1\n",
       "  ⋮\n",
       " -1\n",
       "  1\n",
       " -1\n",
       " -1\n",
       " -1\n",
       " -1\n",
       "  1\n",
       "  1\n",
       " -1\n",
       " -1\n",
       "  1\n",
       "  1"
      ]
     },
     "execution_count": 18,
     "metadata": {},
     "output_type": "execute_result"
    }
   ],
   "source": [
    "@time predictions_train = predict(model, x_train)"
   ]
  },
  {
   "cell_type": "code",
   "execution_count": 19,
   "id": "indoor-nightmare",
   "metadata": {},
   "outputs": [
    {
     "name": "stderr",
     "output_type": "stream",
     "text": [
      "WARNING: redefinition of constant accuracy_score. This may fail, cause incorrect answers, or produce other errors.\n"
     ]
    },
    {
     "data": {
      "text/plain": [
       "1.0"
      ]
     },
     "execution_count": 19,
     "metadata": {},
     "output_type": "execute_result"
    }
   ],
   "source": [
    "@sk_import metrics: accuracy_score\n",
    "accuracy = accuracy_score(predictions_train, y_train)"
   ]
  },
  {
   "cell_type": "markdown",
   "id": "subtle-plate",
   "metadata": {},
   "source": [
    "**Size of Decision Tree model**"
   ]
  },
  {
   "cell_type": "code",
   "execution_count": 20,
   "id": "unsigned-sympathy",
   "metadata": {},
   "outputs": [
    {
     "data": {
      "text/plain": [
       "23068"
      ]
     },
     "execution_count": 20,
     "metadata": {},
     "output_type": "execute_result"
    }
   ],
   "source": [
    "using PyCall\n",
    "@pyimport pickle\n",
    "p = pickle.dumps(model)\n",
    "print(sizeof(p),\" bytes\")"
   ]
  },
  {
   "cell_type": "markdown",
   "id": "neural-frank",
   "metadata": {},
   "source": [
    "# Support Vector Machine"
   ]
  },
  {
   "cell_type": "code",
   "execution_count": 23,
   "id": "silent-shooting",
   "metadata": {},
   "outputs": [
    {
     "name": "stderr",
     "output_type": "stream",
     "text": [
      "WARNING: redefinition of constant LinearSVC. This may fail, cause incorrect answers, or produce other errors.\n"
     ]
    },
    {
     "data": {
      "text/plain": [
       "PyObject LinearSVC()"
      ]
     },
     "execution_count": 23,
     "metadata": {},
     "output_type": "execute_result"
    }
   ],
   "source": [
    "@sk_import svm: LinearSVC\n",
    "model = LinearSVC()"
   ]
  },
  {
   "cell_type": "code",
   "execution_count": 24,
   "id": "sorted-distinction",
   "metadata": {},
   "outputs": [
    {
     "data": {
      "text/plain": [
       "PyObject LinearSVC()"
      ]
     },
     "execution_count": 24,
     "metadata": {},
     "output_type": "execute_result"
    }
   ],
   "source": [
    "fit!(model, x_train, y_train)"
   ]
  },
  {
   "cell_type": "markdown",
   "id": "received-peace",
   "metadata": {},
   "source": [
    "### Performance on Testing Dataset"
   ]
  },
  {
   "cell_type": "code",
   "execution_count": 25,
   "id": "narrative-secretariat",
   "metadata": {},
   "outputs": [
    {
     "name": "stdout",
     "output_type": "stream",
     "text": [
      "  0.009888 seconds (36 allocations: 6.500 KiB)\n"
     ]
    },
    {
     "data": {
      "text/plain": [
       "600-element Array{Int64,1}:\n",
       " -1\n",
       " -1\n",
       " -1\n",
       "  1\n",
       " -1\n",
       " -1\n",
       " -1\n",
       " -1\n",
       "  1\n",
       "  1\n",
       "  1\n",
       " -1\n",
       "  1\n",
       "  ⋮\n",
       " -1\n",
       " -1\n",
       " -1\n",
       "  1\n",
       " -1\n",
       " -1\n",
       "  1\n",
       " -1\n",
       " -1\n",
       " -1\n",
       "  1\n",
       " -1"
      ]
     },
     "execution_count": 25,
     "metadata": {},
     "output_type": "execute_result"
    }
   ],
   "source": [
    "@time predictions_test = predict(model, x_test)"
   ]
  },
  {
   "cell_type": "code",
   "execution_count": 26,
   "id": "sunset-sailing",
   "metadata": {},
   "outputs": [
    {
     "name": "stderr",
     "output_type": "stream",
     "text": [
      "WARNING: redefinition of constant accuracy_score. This may fail, cause incorrect answers, or produce other errors.\n"
     ]
    },
    {
     "data": {
      "text/plain": [
       "0.56"
      ]
     },
     "execution_count": 26,
     "metadata": {},
     "output_type": "execute_result"
    }
   ],
   "source": [
    "@sk_import metrics: accuracy_score\n",
    "accuracy = accuracy_score(predictions_test, y_test)"
   ]
  },
  {
   "cell_type": "markdown",
   "id": "plain-permit",
   "metadata": {},
   "source": [
    "### Performance on Training Dataset"
   ]
  },
  {
   "cell_type": "code",
   "execution_count": 27,
   "id": "atlantic-calcium",
   "metadata": {},
   "outputs": [
    {
     "name": "stdout",
     "output_type": "stream",
     "text": [
      "  0.009266 seconds (36 allocations: 17.438 KiB)\n"
     ]
    },
    {
     "data": {
      "text/plain": [
       "2000-element Array{Int64,1}:\n",
       " -1\n",
       " -1\n",
       " -1\n",
       "  1\n",
       "  1\n",
       " -1\n",
       " -1\n",
       " -1\n",
       "  1\n",
       " -1\n",
       " -1\n",
       "  1\n",
       " -1\n",
       "  ⋮\n",
       " -1\n",
       " -1\n",
       " -1\n",
       " -1\n",
       " -1\n",
       "  1\n",
       " -1\n",
       "  1\n",
       " -1\n",
       " -1\n",
       " -1\n",
       " -1"
      ]
     },
     "execution_count": 27,
     "metadata": {},
     "output_type": "execute_result"
    }
   ],
   "source": [
    "@time predictions_train = predict(model, x_train)"
   ]
  },
  {
   "cell_type": "code",
   "execution_count": 28,
   "id": "residential-brother",
   "metadata": {},
   "outputs": [
    {
     "name": "stderr",
     "output_type": "stream",
     "text": [
      "WARNING: redefinition of constant accuracy_score. This may fail, cause incorrect answers, or produce other errors.\n"
     ]
    },
    {
     "data": {
      "text/plain": [
       "0.6755"
      ]
     },
     "execution_count": 28,
     "metadata": {},
     "output_type": "execute_result"
    }
   ],
   "source": [
    "@sk_import metrics: accuracy_score\n",
    "accuracy = accuracy_score(predictions_train, y_train)"
   ]
  },
  {
   "cell_type": "markdown",
   "id": "graduate-visibility",
   "metadata": {},
   "source": [
    "**Size of support vector machine model**"
   ]
  },
  {
   "cell_type": "code",
   "execution_count": 38,
   "id": "adverse-folks",
   "metadata": {},
   "outputs": [
    {
     "name": "stdout",
     "output_type": "stream",
     "text": [
      "1210130 bytes"
     ]
    }
   ],
   "source": [
    "using PyCall\n",
    "@pyimport pickle\n",
    "p = pickle.dumps(model)\n",
    "print(sizeof(p),\" bytes\")"
   ]
  },
  {
   "cell_type": "markdown",
   "id": "polished-vatican",
   "metadata": {},
   "source": [
    "# Neural Networks"
   ]
  },
  {
   "cell_type": "code",
   "execution_count": 30,
   "id": "falling-mattress",
   "metadata": {},
   "outputs": [
    {
     "data": {
      "text/plain": [
       "PyObject MLPClassifier()"
      ]
     },
     "execution_count": 30,
     "metadata": {},
     "output_type": "execute_result"
    }
   ],
   "source": [
    "@sk_import neural_network: MLPClassifier\n",
    "model = MLPClassifier()"
   ]
  },
  {
   "cell_type": "code",
   "execution_count": 31,
   "id": "compound-boulder",
   "metadata": {},
   "outputs": [
    {
     "name": "stdout",
     "output_type": "stream",
     "text": [
      "  2.897595 seconds (21 allocations: 1.109 KiB)\n"
     ]
    },
    {
     "data": {
      "text/plain": [
       "PyObject MLPClassifier()"
      ]
     },
     "execution_count": 31,
     "metadata": {},
     "output_type": "execute_result"
    }
   ],
   "source": [
    "@time fit!(model, x_train, y_train)"
   ]
  },
  {
   "cell_type": "markdown",
   "id": "assumed-monte",
   "metadata": {},
   "source": [
    "### Performance On Testing Dataset"
   ]
  },
  {
   "cell_type": "code",
   "execution_count": 32,
   "id": "danish-shuttle",
   "metadata": {},
   "outputs": [
    {
     "name": "stdout",
     "output_type": "stream",
     "text": [
      "  0.009369 seconds (36 allocations: 6.500 KiB)\n"
     ]
    },
    {
     "data": {
      "text/plain": [
       "600-element Array{Int64,1}:\n",
       "  1\n",
       "  1\n",
       " -1\n",
       "  1\n",
       " -1\n",
       "  1\n",
       "  1\n",
       "  1\n",
       "  1\n",
       "  1\n",
       " -1\n",
       "  1\n",
       " -1\n",
       "  ⋮\n",
       " -1\n",
       " -1\n",
       " -1\n",
       " -1\n",
       "  1\n",
       " -1\n",
       " -1\n",
       " -1\n",
       " -1\n",
       "  1\n",
       "  1\n",
       "  1"
      ]
     },
     "execution_count": 32,
     "metadata": {},
     "output_type": "execute_result"
    }
   ],
   "source": [
    "@time predictions_test = predict(model, x_test)"
   ]
  },
  {
   "cell_type": "code",
   "execution_count": 33,
   "id": "opponent-waterproof",
   "metadata": {},
   "outputs": [
    {
     "name": "stderr",
     "output_type": "stream",
     "text": [
      "WARNING: redefinition of constant accuracy_score. This may fail, cause incorrect answers, or produce other errors.\n"
     ]
    },
    {
     "data": {
      "text/plain": [
       "0.545"
      ]
     },
     "execution_count": 33,
     "metadata": {},
     "output_type": "execute_result"
    }
   ],
   "source": [
    "@sk_import metrics: accuracy_score\n",
    "accuracy = accuracy_score(predictions_test, y_test)"
   ]
  },
  {
   "cell_type": "markdown",
   "id": "opposed-aberdeen",
   "metadata": {},
   "source": [
    "### Performance On Training Dataset"
   ]
  },
  {
   "cell_type": "code",
   "execution_count": 34,
   "id": "serial-marathon",
   "metadata": {},
   "outputs": [
    {
     "name": "stdout",
     "output_type": "stream",
     "text": [
      "  0.026225 seconds (36 allocations: 17.438 KiB)\n"
     ]
    },
    {
     "data": {
      "text/plain": [
       "2000-element Array{Int64,1}:\n",
       " -1\n",
       "  1\n",
       " -1\n",
       "  1\n",
       "  1\n",
       " -1\n",
       " -1\n",
       "  1\n",
       " -1\n",
       "  1\n",
       " -1\n",
       " -1\n",
       " -1\n",
       "  ⋮\n",
       " -1\n",
       "  1\n",
       " -1\n",
       "  1\n",
       " -1\n",
       " -1\n",
       " -1\n",
       "  1\n",
       " -1\n",
       "  1\n",
       "  1\n",
       "  1"
      ]
     },
     "execution_count": 34,
     "metadata": {},
     "output_type": "execute_result"
    }
   ],
   "source": [
    "@time predictions_train = predict(model, x_train)"
   ]
  },
  {
   "cell_type": "code",
   "execution_count": 35,
   "id": "described-piano",
   "metadata": {},
   "outputs": [
    {
     "name": "stderr",
     "output_type": "stream",
     "text": [
      "WARNING: redefinition of constant accuracy_score. This may fail, cause incorrect answers, or produce other errors.\n"
     ]
    },
    {
     "data": {
      "text/plain": [
       "0.539"
      ]
     },
     "execution_count": 35,
     "metadata": {},
     "output_type": "execute_result"
    }
   ],
   "source": [
    "@sk_import metrics: accuracy_score\n",
    "accuracy = accuracy_score(predictions_train, y_train)"
   ]
  },
  {
   "cell_type": "markdown",
   "id": "intermediate-accordance",
   "metadata": {},
   "source": [
    "**Size of Neural Network model**"
   ]
  },
  {
   "cell_type": "code",
   "execution_count": 37,
   "id": "expensive-importance",
   "metadata": {},
   "outputs": [
    {
     "name": "stdout",
     "output_type": "stream",
     "text": [
      "1210130 bytes"
     ]
    }
   ],
   "source": [
    "using PyCall\n",
    "@pyimport pickle\n",
    "p = pickle.dumps(model)\n",
    "print(sizeof(p),\" bytes\")"
   ]
  }
 ],
 "metadata": {
  "kernelspec": {
   "display_name": "Julia 1.5.3",
   "language": "julia",
   "name": "julia-1.5"
  },
  "language_info": {
   "file_extension": ".jl",
   "mimetype": "application/julia",
   "name": "julia",
   "version": "1.5.3"
  }
 },
 "nbformat": 4,
 "nbformat_minor": 5
}
