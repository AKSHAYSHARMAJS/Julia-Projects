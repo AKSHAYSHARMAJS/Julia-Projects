{
 "cells": [
  {
   "cell_type": "code",
   "execution_count": 3,
   "id": "latest-variation",
   "metadata": {},
   "outputs": [
    {
     "name": "stdout",
     "output_type": "stream",
     "text": [
      "42054\n",
      "68332"
     ]
    }
   ],
   "source": [
    "using SQLite\n",
    "using DataFrames\n",
    "\n",
    "\n",
    "db = SQLite.DB(\"names.db\")\n",
    "\n",
    "\n",
    "data = DataFrames.DataFrame(SQLite.DBInterface.execute(db, \"SELECT * from names\"))\n",
    "distinct_names= combine(groupby(data, [:name, :sex]),nrow)\n",
    "\n",
    "count_names = combine(groupby(distinct_names, [:sex]), nrow)\n",
    "\n",
    "if(count_names[!,1][1] == \"M\")\n",
    "\tNb = count_names[!, 2][1]\n",
    "\tNg = count_names[!, 2][2]\n",
    "else\n",
    "\tNb = count_names[!, 2][2]\n",
    "\tNg = count_names[!, 2][1]\n",
    "end\n",
    "\n",
    "print(Nb, \"\\n\", Ng)\n"
   ]
  },
  {
   "cell_type": "code",
   "execution_count": 4,
   "id": "dutch-grenada",
   "metadata": {},
   "outputs": [
    {
     "data": {
      "text/plain": [
       "1879"
      ]
     },
     "execution_count": 4,
     "metadata": {},
     "output_type": "execute_result"
    }
   ],
   "source": [
    "d = combine(groupby(data,:year), nrow)\n",
    "Ny = nrow(d)\n",
    "minyr = minimum(d[!,1])\n",
    "minyr -= 1"
   ]
  },
  {
   "cell_type": "code",
   "execution_count": 6,
   "id": "imported-updating",
   "metadata": {},
   "outputs": [
    {
     "data": {
      "text/plain": [
       "Dict{String,Int64}()"
      ]
     },
     "execution_count": 6,
     "metadata": {},
     "output_type": "execute_result"
    }
   ],
   "source": [
    "boy_name = Dict{String,Int64}()\n",
    "girl_name = Dict{String, Int64}()"
   ]
  },
  {
   "cell_type": "code",
   "execution_count": 7,
   "id": "saving-figure",
   "metadata": {},
   "outputs": [
    {
     "data": {
      "text/plain": [
       "140-element Array{Int32,1}:\n",
       " 0\n",
       " 0\n",
       " 0\n",
       " 0\n",
       " 0\n",
       " 0\n",
       " 0\n",
       " 0\n",
       " 0\n",
       " 0\n",
       " 0\n",
       " 0\n",
       " 0\n",
       " ⋮\n",
       " 0\n",
       " 0\n",
       " 0\n",
       " 0\n",
       " 0\n",
       " 0\n",
       " 0\n",
       " 0\n",
       " 0\n",
       " 0\n",
       " 0\n",
       " 0"
      ]
     },
     "execution_count": 7,
     "metadata": {},
     "output_type": "execute_result"
    }
   ],
   "source": [
    "Fb = zeros(Int32, Nb, Ny)\n",
    "Fg = zeros(Int32, Ng, Ny)\n",
    "Ty = zeros(Int32, Ny)"
   ]
  },
  {
   "cell_type": "code",
   "execution_count": 8,
   "id": "transparent-characterization",
   "metadata": {},
   "outputs": [],
   "source": [
    "index_boy = 1\n",
    "index_girl = 1\n",
    "for entry in eachrow(data)\n",
    "    if(entry[2] == \"M\")\n",
    "        if(!haskey(boy_name, entry[1]))\n",
    "            boy_name[entry[1]] = index_boy\n",
    "            index_boy += 1\n",
    "        end            \n",
    "        Fb[boy_name[entry[1]], entry[4] - minyr] = entry[3]\n",
    "        Ty[entry[4] - minyr] += entry[3]\n",
    "    else\n",
    "        if(!haskey(girl_name, entry[1]))\n",
    "            girl_name[entry[1]] = index_girl\n",
    "            index_girl += 1\n",
    "        end\n",
    "        Fg[girl_name[entry[1]], entry[4] - minyr] = entry[3]\n",
    "        Ty[entry[4] - minyr] += entry[3]\n",
    "    end\n",
    "end\n"
   ]
  },
  {
   "cell_type": "code",
   "execution_count": 24,
   "id": "subjective-banner",
   "metadata": {},
   "outputs": [
    {
     "data": {
      "text/plain": [
       "68332×140 Array{Float32,2}:\n",
       " 0.0  0.0  0.0  0.0  0.0  0.0  0.0  0.0  …  0.0  0.0  0.0  0.0  0.0  0.0  0.0\n",
       " 0.0  0.0  0.0  0.0  0.0  0.0  0.0  0.0     0.0  0.0  0.0  0.0  0.0  0.0  0.0\n",
       " 0.0  0.0  0.0  0.0  0.0  0.0  0.0  0.0     0.0  0.0  0.0  0.0  0.0  0.0  0.0\n",
       " 0.0  0.0  0.0  0.0  0.0  0.0  0.0  0.0     0.0  0.0  0.0  0.0  0.0  0.0  0.0\n",
       " 0.0  0.0  0.0  0.0  0.0  0.0  0.0  0.0     0.0  0.0  0.0  0.0  0.0  0.0  0.0\n",
       " 0.0  0.0  0.0  0.0  0.0  0.0  0.0  0.0  …  0.0  0.0  0.0  0.0  0.0  0.0  0.0\n",
       " 0.0  0.0  0.0  0.0  0.0  0.0  0.0  0.0     0.0  0.0  0.0  0.0  0.0  0.0  0.0\n",
       " 0.0  0.0  0.0  0.0  0.0  0.0  0.0  0.0     0.0  0.0  0.0  0.0  0.0  0.0  0.0\n",
       " 0.0  0.0  0.0  0.0  0.0  0.0  0.0  0.0     0.0  0.0  0.0  0.0  0.0  0.0  0.0\n",
       " 0.0  0.0  0.0  0.0  0.0  0.0  0.0  0.0     0.0  0.0  0.0  0.0  0.0  0.0  0.0\n",
       " 0.0  0.0  0.0  0.0  0.0  0.0  0.0  0.0  …  0.0  0.0  0.0  0.0  0.0  0.0  0.0\n",
       " 0.0  0.0  0.0  0.0  0.0  0.0  0.0  0.0     0.0  0.0  0.0  0.0  0.0  0.0  0.0\n",
       " 0.0  0.0  0.0  0.0  0.0  0.0  0.0  0.0     0.0  0.0  0.0  0.0  0.0  0.0  0.0\n",
       " ⋮                        ⋮              ⋱            ⋮                   \n",
       " 0.0  0.0  0.0  0.0  0.0  0.0  0.0  0.0  …  0.0  0.0  0.0  0.0  0.0  0.0  0.0\n",
       " 0.0  0.0  0.0  0.0  0.0  0.0  0.0  0.0     0.0  0.0  0.0  0.0  0.0  0.0  0.0\n",
       " 0.0  0.0  0.0  0.0  0.0  0.0  0.0  0.0     0.0  0.0  0.0  0.0  0.0  0.0  0.0\n",
       " 0.0  0.0  0.0  0.0  0.0  0.0  0.0  0.0     0.0  0.0  0.0  0.0  0.0  0.0  0.0\n",
       " 0.0  0.0  0.0  0.0  0.0  0.0  0.0  0.0     0.0  0.0  0.0  0.0  0.0  0.0  0.0\n",
       " 0.0  0.0  0.0  0.0  0.0  0.0  0.0  0.0  …  0.0  0.0  0.0  0.0  0.0  0.0  0.0\n",
       " 0.0  0.0  0.0  0.0  0.0  0.0  0.0  0.0     0.0  0.0  0.0  0.0  0.0  0.0  0.0\n",
       " 0.0  0.0  0.0  0.0  0.0  0.0  0.0  0.0     0.0  0.0  0.0  0.0  0.0  0.0  0.0\n",
       " 0.0  0.0  0.0  0.0  0.0  0.0  0.0  0.0     0.0  0.0  0.0  0.0  0.0  0.0  0.0\n",
       " 0.0  0.0  0.0  0.0  0.0  0.0  0.0  0.0     0.0  0.0  0.0  0.0  0.0  0.0  0.0\n",
       " 0.0  0.0  0.0  0.0  0.0  0.0  0.0  0.0  …  0.0  0.0  0.0  0.0  0.0  0.0  0.0\n",
       " 0.0  0.0  0.0  0.0  0.0  0.0  0.0  0.0     0.0  0.0  0.0  0.0  0.0  0.0  0.0"
      ]
     },
     "execution_count": 24,
     "metadata": {},
     "output_type": "execute_result"
    }
   ],
   "source": [
    "Pb = zeros(Float32, Nb, Ny)\n",
    "Pg = zeros(Float32, Ng, Ny)"
   ]
  },
  {
   "cell_type": "code",
   "execution_count": 25,
   "id": "stone-cleanup",
   "metadata": {},
   "outputs": [],
   "source": [
    "for i = 1:Nb\n",
    "    for j = 1:Ny\n",
    "        Pb[i,j] = Fb[i,j] / Ty[j]\n",
    "    end\n",
    "end\n",
    "\n",
    "for i = 1:Ng\n",
    "    for j = 1:Ny\n",
    "        Pg[i,j] = Fg[i,j] / Ty[j]\n",
    "    end\n",
    "end"
   ]
  },
  {
   "cell_type": "code",
   "execution_count": 26,
   "id": "identified-brake",
   "metadata": {},
   "outputs": [],
   "source": [
    "using LinearAlgebra"
   ]
  },
  {
   "cell_type": "code",
   "execution_count": 27,
   "id": "removed-andrews",
   "metadata": {},
   "outputs": [],
   "source": [
    "Qb = zeros(Float32, Nb, Ny)\n",
    "Qg = zeros(Float32, Ng, Ny)\n",
    "for i = 1:Nb\n",
    "    Qb[i,:] = normalize(Pb[i,:])\n",
    "end\n",
    "for i = 1:Ng\n",
    "    Qg[i,:] = normalize(Pg[i,:])\n",
    "end"
   ]
  },
  {
   "cell_type": "code",
   "execution_count": 28,
   "id": "supported-surgery",
   "metadata": {},
   "outputs": [
    {
     "data": {
      "text/plain": [
       "Dict{Int64,String} with 68332 entries:\n",
       "  15769 => \"Ferrie\"\n",
       "  29044 => \"Shahera\"\n",
       "  62591 => \"Journiee\"\n",
       "  43031 => \"Aujanae\"\n",
       "  22035 => \"Toyota\"\n",
       "  39001 => \"Laurennicole\"\n",
       "  61670 => \"Nahyeli\"\n",
       "  50996 => \"Ximenna\"\n",
       "  48586 => \"Prayer\"\n",
       "  39722 => \"Jailene\"\n",
       "  43089 => \"Melaniece\"\n",
       "  19698 => \"Teralee\"\n",
       "  57473 => \"Lylli\"\n",
       "  29981 => \"Kailani\"\n",
       "  60489 => \"Vishva\"\n",
       "  43977 => \"Alanys\"\n",
       "  7237  => \"Andora\"\n",
       "  64111 => \"Seoyeon\"\n",
       "  48568 => \"Mattisyn\"\n",
       "  58752 => \"Liddia\"\n",
       "  17959 => \"Jeantte\"\n",
       "  52261 => \"Mairyn\"\n",
       "  27248 => \"Shanikka\"\n",
       "  65792 => \"Yaz\"\n",
       "  59825 => \"Jadalys\"\n",
       "  ⋮     => ⋮"
      ]
     },
     "execution_count": 28,
     "metadata": {},
     "output_type": "execute_result"
    }
   ],
   "source": [
    "boy_name_rev = Dict(b=>a for (a,b) in boy_name)\n",
    "girl_name_rev = Dict(b=>a for (a,b) in girl_name)"
   ]
  },
  {
   "cell_type": "code",
   "execution_count": 29,
   "id": "engaged-edition",
   "metadata": {},
   "outputs": [
    {
     "data": {
      "text/plain": [
       "10-element Array{Any,1}:\n",
       " (1, 4205)\n",
       " (4206, 8410)\n",
       " (8411, 12615)\n",
       " (12616, 16820)\n",
       " (16821, 21025)\n",
       " (21026, 25230)\n",
       " (25231, 29435)\n",
       " (29436, 33640)\n",
       " (33641, 37845)\n",
       " (37846, 42054)"
      ]
     },
     "execution_count": 29,
     "metadata": {},
     "output_type": "execute_result"
    }
   ],
   "source": [
    "l = Nb / 10\n",
    "l = Int(floor(l))\n",
    "i = l\n",
    "start = 1\n",
    "part_rows_boy = []\n",
    "if(Nb%10 == 0)\n",
    "    for j = 1:10\n",
    "        push!(part_rows_boy, (start,i))\n",
    "        start = i + 1\n",
    "        i += l\n",
    "    end\n",
    "else\n",
    "    for j = 1:9\n",
    "        push!(part_rows_boy, (start,i))\n",
    "        start = i + 1\n",
    "        i += l\n",
    "    end\n",
    "    i += Nb % 10\n",
    "    push!(part_rows_boy, (start,i))\n",
    "end"
   ]
  },
  {
   "cell_type": "code",
   "execution_count": 30,
   "id": "upper-broadway",
   "metadata": {},
   "outputs": [
    {
     "data": {
      "text/plain": [
       "10-element Array{Any,1}:\n",
       " (1, 6833)\n",
       " (6834, 13666)\n",
       " (13667, 20499)\n",
       " (20500, 27332)\n",
       " (27333, 34165)\n",
       " (34166, 40998)\n",
       " (40999, 47831)\n",
       " (47832, 54664)\n",
       " (54665, 61497)\n",
       " (61498, 68332)"
      ]
     },
     "execution_count": 30,
     "metadata": {},
     "output_type": "execute_result"
    }
   ],
   "source": [
    "l = Ng / 10\n",
    "l = Int(floor(l))\n",
    "i = l\n",
    "start = 1\n",
    "part_rows_girl = []\n",
    "if(Ng%10 == 0)\n",
    "    for j = 1:10\n",
    "        push!(part_rows_girl, (start,i))\n",
    "        start = i + 1\n",
    "        i += l\n",
    "    end\n",
    "else\n",
    "    for j = 1:9\n",
    "        push!(part_rows_girl, (start,i))\n",
    "        start = i + 1\n",
    "        i += l\n",
    "    end\n",
    "    i += Ng % 10\n",
    "    push!(part_rows_girl, (start,i))\n",
    "end"
   ]
  },
  {
   "cell_type": "code",
   "execution_count": 60,
   "id": "ceramic-skirt",
   "metadata": {},
   "outputs": [
    {
     "name": "stdout",
     "output_type": "stream",
     "text": [
      "1 11 2"
     ]
    },
    {
     "ename": "LoadError",
     "evalue": "\u001b[91mInterruptException:\u001b[39m",
     "output_type": "error",
     "traceback": [
      "\u001b[91mInterruptException:\u001b[39m",
      "",
      "Stacktrace:",
      " [1] reshape at ./reshapedarray.jl:51 [inlined]",
      " [2] reshape at ./reshapedarray.jl:116 [inlined]",
      " [3] vec at ./abstractarraymath.jl:41 [inlined]",
      " [4] sort(::Array{Float32,2}; dims::Int64, alg::Base.Sort.QuickSortAlg, lt::Function, by::Function, rev::Nothing, order::Base.Order.ForwardOrdering) at ./sort.jl:1051",
      " [5] macro expansion at ./In[60]:16 [inlined]",
      " [6] top-level scope at ./timing.jl:174 [inlined]",
      " [7] top-level scope at ./In[60]:0",
      " [8] include_string(::Function, ::Module, ::String, ::String) at ./loading.jl:1091"
     ]
    }
   ],
   "source": [
    "top_k = Any[]\n",
    "i1 = 1\n",
    "max = -1\n",
    "final_boy = \"\"\n",
    "final_girl = \"\"\n",
    "\n",
    "@time while(i1 <= 10)\n",
    "    i2 = 1\n",
    "    while(i2 <= 10)\n",
    "        print(i1,\" \",i2,\"\\n\")\n",
    "        BLAS.set_num_threads(10)\n",
    "        matrix1 = Qb[part_rows_boy[i1][1]:part_rows_boy[i1][2],:]\n",
    "        matrix2 = Qg[part_rows_girl[i2][1]:part_rows_girl[i2][2],:]\n",
    "        mul = matrix1 * matrix2'\n",
    "        #println(k[1],\" \",boy_name_rev[k[2][1] + part_rows_boy[i1][1] - 1],\" \",girl_name_rev[k[2][2] + part_rows_girl[i2][1] - 1])\n",
    "        mul = sort(mul, dims = 2)\n",
    "        push!(top_k, mul[:,Ny])\n",
    "        \n",
    "        i2 += 1\n",
    "    end\n",
    "    i1 += 1\n",
    "end\n"
   ]
  },
  {
   "cell_type": "code",
   "execution_count": 58,
   "id": "destroyed-wrong",
   "metadata": {},
   "outputs": [
    {
     "data": {
      "text/plain": [
       "2-element Array{Int64,1}:\n",
       " 5\n",
       " 4"
      ]
     },
     "execution_count": 58,
     "metadata": {},
     "output_type": "execute_result"
    }
   ],
   "source": [
    "x = [2 1 5;4 3 0]\n",
    "\n",
    "x = sort(x, dims = 2)\n",
    "x[:,3]"
   ]
  }
 ],
 "metadata": {
  "kernelspec": {
   "display_name": "Julia 1.5.3",
   "language": "julia",
   "name": "julia-1.5"
  },
  "language_info": {
   "file_extension": ".jl",
   "mimetype": "application/julia",
   "name": "julia",
   "version": "1.5.3"
  }
 },
 "nbformat": 4,
 "nbformat_minor": 5
}
