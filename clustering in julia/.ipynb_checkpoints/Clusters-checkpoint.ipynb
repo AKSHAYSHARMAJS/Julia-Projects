{
 "cells": [
  {
   "cell_type": "code",
   "execution_count": 1,
   "id": "medical-audit",
   "metadata": {},
   "outputs": [],
   "source": [
    "using DataFrames\n",
    "using ScikitLearn: fit!, predict, @sk_import\n",
    "using LinearAlgebra\n",
    "using Clustering\n",
    "using CSV\n",
    "using RDatasets"
   ]
  },
  {
   "cell_type": "code",
   "execution_count": 2,
   "id": "unusual-crowd",
   "metadata": {},
   "outputs": [
    {
     "data": {
      "text/html": [
       "<table class=\"data-frame\"><thead><tr><th></th><th>tumorsize</th><th>co2</th><th>pain</th><th>wound</th><th>mobility</th><th>ntumors</th><th>nmorphine</th><th>remission</th><th>lungcapacity</th></tr><tr><th></th><th>Float64</th><th>Float64</th><th>Int64</th><th>Int64</th><th>Int64</th><th>Int64</th><th>Int64</th><th>Int64</th><th>Float64</th></tr></thead><tbody><p>8,525 rows × 27 columns (omitted printing of 18 columns)</p><tr><th>1</th><td>67.9812</td><td>1.53433</td><td>4</td><td>4</td><td>2</td><td>0</td><td>0</td><td>0</td><td>0.801088</td></tr><tr><th>2</th><td>64.7025</td><td>1.67613</td><td>2</td><td>3</td><td>2</td><td>0</td><td>0</td><td>0</td><td>0.326444</td></tr><tr><th>3</th><td>51.567</td><td>1.53345</td><td>6</td><td>3</td><td>2</td><td>0</td><td>0</td><td>0</td><td>0.565031</td></tr><tr><th>4</th><td>86.438</td><td>1.4533</td><td>3</td><td>3</td><td>2</td><td>0</td><td>0</td><td>0</td><td>0.848411</td></tr><tr><th>5</th><td>53.4002</td><td>1.56635</td><td>3</td><td>4</td><td>2</td><td>0</td><td>0</td><td>0</td><td>0.886491</td></tr><tr><th>6</th><td>51.6573</td><td>1.41787</td><td>4</td><td>5</td><td>2</td><td>0</td><td>0</td><td>0</td><td>0.701031</td></tr><tr><th>7</th><td>78.9171</td><td>1.70663</td><td>3</td><td>4</td><td>2</td><td>0</td><td>0</td><td>0</td><td>0.890854</td></tr><tr><th>8</th><td>69.8332</td><td>1.52873</td><td>3</td><td>3</td><td>3</td><td>0</td><td>0</td><td>0</td><td>0.66088</td></tr><tr><th>9</th><td>62.8526</td><td>1.54296</td><td>4</td><td>4</td><td>3</td><td>2</td><td>0</td><td>0</td><td>0.908871</td></tr><tr><th>10</th><td>71.7779</td><td>1.59306</td><td>5</td><td>4</td><td>3</td><td>0</td><td>0</td><td>0</td><td>0.959327</td></tr><tr><th>11</th><td>66.0256</td><td>1.60936</td><td>4</td><td>3</td><td>3</td><td>0</td><td>0</td><td>0</td><td>0.768215</td></tr><tr><th>12</th><td>57.5208</td><td>1.6344</td><td>4</td><td>3</td><td>3</td><td>0</td><td>0</td><td>0</td><td>0.488333</td></tr><tr><th>13</th><td>48.8394</td><td>1.53568</td><td>5</td><td>3</td><td>3</td><td>0</td><td>0</td><td>0</td><td>0.873921</td></tr><tr><th>14</th><td>67.2588</td><td>1.4896</td><td>3</td><td>3</td><td>2</td><td>0</td><td>0</td><td>0</td><td>0.707038</td></tr><tr><th>15</th><td>66.8071</td><td>1.52414</td><td>4</td><td>3</td><td>1</td><td>6</td><td>4</td><td>0</td><td>0.891166</td></tr><tr><th>16</th><td>73.8678</td><td>1.62979</td><td>3</td><td>4</td><td>1</td><td>0</td><td>0</td><td>0</td><td>0.604558</td></tr><tr><th>17</th><td>74.4426</td><td>1.74089</td><td>2</td><td>3</td><td>2</td><td>5</td><td>0</td><td>0</td><td>0.979005</td></tr><tr><th>18</th><td>79.7899</td><td>1.68875</td><td>6</td><td>4</td><td>2</td><td>0</td><td>0</td><td>0</td><td>0.58833</td></tr><tr><th>19</th><td>93.6763</td><td>1.71278</td><td>5</td><td>4</td><td>3</td><td>2</td><td>1</td><td>0</td><td>0.800185</td></tr><tr><th>20</th><td>58.2765</td><td>1.46615</td><td>7</td><td>3</td><td>2</td><td>0</td><td>0</td><td>0</td><td>0.900713</td></tr><tr><th>21</th><td>63.1962</td><td>1.51348</td><td>6</td><td>3</td><td>3</td><td>0</td><td>0</td><td>0</td><td>0.477993</td></tr><tr><th>22</th><td>57.5758</td><td>1.58642</td><td>3</td><td>3</td><td>1</td><td>2</td><td>0</td><td>0</td><td>0.616175</td></tr><tr><th>23</th><td>51.7235</td><td>1.49534</td><td>5</td><td>4</td><td>2</td><td>0</td><td>0</td><td>0</td><td>0.71411</td></tr><tr><th>24</th><td>63.6105</td><td>1.63116</td><td>1</td><td>3</td><td>2</td><td>0</td><td>0</td><td>0</td><td>0.667079</td></tr><tr><th>25</th><td>70.3155</td><td>1.59554</td><td>5</td><td>3</td><td>3</td><td>3</td><td>0</td><td>0</td><td>0.900029</td></tr><tr><th>26</th><td>78.9307</td><td>1.79946</td><td>3</td><td>4</td><td>2</td><td>2</td><td>0</td><td>0</td><td>0.670813</td></tr><tr><th>27</th><td>58.7022</td><td>1.53565</td><td>4</td><td>5</td><td>3</td><td>0</td><td>0</td><td>0</td><td>0.935679</td></tr><tr><th>28</th><td>66.4073</td><td>1.54085</td><td>4</td><td>3</td><td>3</td><td>0</td><td>0</td><td>0</td><td>0.298891</td></tr><tr><th>29</th><td>72.5715</td><td>1.59799</td><td>6</td><td>8</td><td>6</td><td>0</td><td>9</td><td>0</td><td>0.648699</td></tr><tr><th>30</th><td>52.9476</td><td>1.48219</td><td>5</td><td>7</td><td>5</td><td>1</td><td>3</td><td>0</td><td>0.70754</td></tr><tr><th>&vellip;</th><td>&vellip;</td><td>&vellip;</td><td>&vellip;</td><td>&vellip;</td><td>&vellip;</td><td>&vellip;</td><td>&vellip;</td><td>&vellip;</td><td>&vellip;</td></tr></tbody></table>"
      ],
      "text/latex": [
       "\\begin{tabular}{r|cccccccccc}\n",
       "\t& tumorsize & co2 & pain & wound & mobility & ntumors & nmorphine & remission & lungcapacity & \\\\\n",
       "\t\\hline\n",
       "\t& Float64 & Float64 & Int64 & Int64 & Int64 & Int64 & Int64 & Int64 & Float64 & \\\\\n",
       "\t\\hline\n",
       "\t1 & 67.9812 & 1.53433 & 4 & 4 & 2 & 0 & 0 & 0 & 0.801088 & $\\dots$ \\\\\n",
       "\t2 & 64.7025 & 1.67613 & 2 & 3 & 2 & 0 & 0 & 0 & 0.326444 & $\\dots$ \\\\\n",
       "\t3 & 51.567 & 1.53345 & 6 & 3 & 2 & 0 & 0 & 0 & 0.565031 & $\\dots$ \\\\\n",
       "\t4 & 86.438 & 1.4533 & 3 & 3 & 2 & 0 & 0 & 0 & 0.848411 & $\\dots$ \\\\\n",
       "\t5 & 53.4002 & 1.56635 & 3 & 4 & 2 & 0 & 0 & 0 & 0.886491 & $\\dots$ \\\\\n",
       "\t6 & 51.6573 & 1.41787 & 4 & 5 & 2 & 0 & 0 & 0 & 0.701031 & $\\dots$ \\\\\n",
       "\t7 & 78.9171 & 1.70663 & 3 & 4 & 2 & 0 & 0 & 0 & 0.890854 & $\\dots$ \\\\\n",
       "\t8 & 69.8332 & 1.52873 & 3 & 3 & 3 & 0 & 0 & 0 & 0.66088 & $\\dots$ \\\\\n",
       "\t9 & 62.8526 & 1.54296 & 4 & 4 & 3 & 2 & 0 & 0 & 0.908871 & $\\dots$ \\\\\n",
       "\t10 & 71.7779 & 1.59306 & 5 & 4 & 3 & 0 & 0 & 0 & 0.959327 & $\\dots$ \\\\\n",
       "\t11 & 66.0256 & 1.60936 & 4 & 3 & 3 & 0 & 0 & 0 & 0.768215 & $\\dots$ \\\\\n",
       "\t12 & 57.5208 & 1.6344 & 4 & 3 & 3 & 0 & 0 & 0 & 0.488333 & $\\dots$ \\\\\n",
       "\t13 & 48.8394 & 1.53568 & 5 & 3 & 3 & 0 & 0 & 0 & 0.873921 & $\\dots$ \\\\\n",
       "\t14 & 67.2588 & 1.4896 & 3 & 3 & 2 & 0 & 0 & 0 & 0.707038 & $\\dots$ \\\\\n",
       "\t15 & 66.8071 & 1.52414 & 4 & 3 & 1 & 6 & 4 & 0 & 0.891166 & $\\dots$ \\\\\n",
       "\t16 & 73.8678 & 1.62979 & 3 & 4 & 1 & 0 & 0 & 0 & 0.604558 & $\\dots$ \\\\\n",
       "\t17 & 74.4426 & 1.74089 & 2 & 3 & 2 & 5 & 0 & 0 & 0.979005 & $\\dots$ \\\\\n",
       "\t18 & 79.7899 & 1.68875 & 6 & 4 & 2 & 0 & 0 & 0 & 0.58833 & $\\dots$ \\\\\n",
       "\t19 & 93.6763 & 1.71278 & 5 & 4 & 3 & 2 & 1 & 0 & 0.800185 & $\\dots$ \\\\\n",
       "\t20 & 58.2765 & 1.46615 & 7 & 3 & 2 & 0 & 0 & 0 & 0.900713 & $\\dots$ \\\\\n",
       "\t21 & 63.1962 & 1.51348 & 6 & 3 & 3 & 0 & 0 & 0 & 0.477993 & $\\dots$ \\\\\n",
       "\t22 & 57.5758 & 1.58642 & 3 & 3 & 1 & 2 & 0 & 0 & 0.616175 & $\\dots$ \\\\\n",
       "\t23 & 51.7235 & 1.49534 & 5 & 4 & 2 & 0 & 0 & 0 & 0.71411 & $\\dots$ \\\\\n",
       "\t24 & 63.6105 & 1.63116 & 1 & 3 & 2 & 0 & 0 & 0 & 0.667079 & $\\dots$ \\\\\n",
       "\t25 & 70.3155 & 1.59554 & 5 & 3 & 3 & 3 & 0 & 0 & 0.900029 & $\\dots$ \\\\\n",
       "\t26 & 78.9307 & 1.79946 & 3 & 4 & 2 & 2 & 0 & 0 & 0.670813 & $\\dots$ \\\\\n",
       "\t27 & 58.7022 & 1.53565 & 4 & 5 & 3 & 0 & 0 & 0 & 0.935679 & $\\dots$ \\\\\n",
       "\t28 & 66.4073 & 1.54085 & 4 & 3 & 3 & 0 & 0 & 0 & 0.298891 & $\\dots$ \\\\\n",
       "\t29 & 72.5715 & 1.59799 & 6 & 8 & 6 & 0 & 9 & 0 & 0.648699 & $\\dots$ \\\\\n",
       "\t30 & 52.9476 & 1.48219 & 5 & 7 & 5 & 1 & 3 & 0 & 0.70754 & $\\dots$ \\\\\n",
       "\t$\\dots$ & $\\dots$ & $\\dots$ & $\\dots$ & $\\dots$ & $\\dots$ & $\\dots$ & $\\dots$ & $\\dots$ & $\\dots$ &  \\\\\n",
       "\\end{tabular}\n"
      ],
      "text/plain": [
       "\u001b[1m8525×27 DataFrame\u001b[0m\n",
       "\u001b[1m  Row \u001b[0m│\u001b[1m tumorsize \u001b[0m\u001b[1m co2     \u001b[0m\u001b[1m pain  \u001b[0m\u001b[1m wound \u001b[0m\u001b[1m mobility \u001b[0m\u001b[1m ntumors \u001b[0m\u001b[1m nmorphine \u001b[0m\u001b[1m remiss\u001b[0m ⋯\n",
       "\u001b[1m      \u001b[0m│\u001b[90m Float64   \u001b[0m\u001b[90m Float64 \u001b[0m\u001b[90m Int64 \u001b[0m\u001b[90m Int64 \u001b[0m\u001b[90m Int64    \u001b[0m\u001b[90m Int64   \u001b[0m\u001b[90m Int64     \u001b[0m\u001b[90m Int64 \u001b[0m ⋯\n",
       "──────┼─────────────────────────────────────────────────────────────────────────\n",
       "    1 │   67.9812  1.53433      4      4         2        0          0         ⋯\n",
       "    2 │   64.7025  1.67613      2      3         2        0          0\n",
       "    3 │   51.567   1.53345      6      3         2        0          0\n",
       "    4 │   86.438   1.4533       3      3         2        0          0\n",
       "    5 │   53.4002  1.56635      3      4         2        0          0         ⋯\n",
       "    6 │   51.6573  1.41787      4      5         2        0          0\n",
       "    7 │   78.9171  1.70663      3      4         2        0          0\n",
       "    8 │   69.8332  1.52873      3      3         3        0          0\n",
       "    9 │   62.8526  1.54296      4      4         3        2          0         ⋯\n",
       "   10 │   71.7779  1.59306      5      4         3        0          0\n",
       "   11 │   66.0256  1.60936      4      3         3        0          0\n",
       "  ⋮   │     ⋮         ⋮       ⋮      ⋮       ⋮         ⋮         ⋮          ⋮  ⋱\n",
       " 8516 │   72.1299  1.54957      6      6         3        0          1\n",
       " 8517 │   80.6805  1.76155      5      6         3        0          1         ⋯\n",
       " 8518 │   74.1363  1.59926      5      6         3        7          5\n",
       " 8519 │   70.073   1.47649      6      5         3        4          2\n",
       " 8520 │   82.6019  1.77649      7      6         1        1          2\n",
       " 8521 │   71.2625  1.44567      4      7         4        4          0         ⋯\n",
       " 8522 │   79.9304  1.84224      4      6         2        2          5\n",
       " 8523 │   67.098   1.51245      5      6         4        0          4\n",
       " 8524 │   66.3834  1.61859      7      5         3        3          2\n",
       " 8525 │   65.9232  1.58751      4      5         3        1          2         ⋯\n",
       "\u001b[36m                                                20 columns and 8504 rows omitted\u001b[0m"
      ]
     },
     "execution_count": 2,
     "metadata": {},
     "output_type": "execute_result"
    }
   ],
   "source": [
    "data = DataFrame(CSV.File(\"01_hdp.csv\"));\n",
    "original = data"
   ]
  },
  {
   "cell_type": "code",
   "execution_count": 3,
   "id": "forbidden-calculator",
   "metadata": {},
   "outputs": [],
   "source": [
    "@sk_import preprocessing: LabelEncoder\n",
    "enc = LabelEncoder()\n",
    "for i = [12,13,14,15,24]\n",
    "    data[!,i] = enc.fit_transform(data[!,i])\n",
    "end"
   ]
  },
  {
   "cell_type": "code",
   "execution_count": 4,
   "id": "scenic-correlation",
   "metadata": {},
   "outputs": [],
   "source": [
    "for i = 1 : 27\n",
    "    data[!,i] = normalize(data[!,i])\n",
    "end"
   ]
  },
  {
   "cell_type": "code",
   "execution_count": 5,
   "id": "owned-buffer",
   "metadata": {},
   "outputs": [
    {
     "data": {
      "text/plain": [
       "8525×27 Array{Float64,2}:\n",
       " 0.0102402   0.0103217   0.00763223  …  0.0136182  0.000528598  0.0118698\n",
       " 0.00974633  0.0112756   0.00381611     0.0136182  0.000528598  0.0118698\n",
       " 0.00776769  0.0103158   0.0114483      0.0136182  0.000528598  0.0118698\n",
       " 0.0130204   0.00977661  0.00572417     0.0136182  0.000528598  0.0118698\n",
       " 0.00804383  0.0105371   0.00572417     0.0136182  0.000528598  0.0118698\n",
       " 0.00778129  0.00953825  0.00763223  …  0.0136182  0.000528598  0.0118698\n",
       " 0.0118875   0.0114808   0.00572417     0.0136182  0.000528598  0.0118698\n",
       " 0.0105192   0.010284    0.00572417     0.0136182  0.000528598  0.0118698\n",
       " 0.00946768  0.0103798   0.00763223     0.0136182  0.000528598  0.0118698\n",
       " 0.0108121   0.0107168   0.00954028     0.0136182  0.000528598  0.0118698\n",
       " 0.00994564  0.0108265   0.00763223  …  0.0136182  0.000528598  0.0118698\n",
       " 0.00866453  0.0109949   0.00763223     0.0136182  0.000528598  0.0118698\n",
       " 0.00735683  0.0103308   0.00954028     0.0136182  0.000528598  0.0118698\n",
       " ⋮                                   ⋱             ⋮            \n",
       " 0.0115632   0.0101916   0.00954028     0.0181576  0.0185009    0.00671729\n",
       " 0.0106821   0.00987537  0.0114483      0.0181576  0.0185009    0.00671729\n",
       " 0.0108651   0.0104243   0.0114483   …  0.0181576  0.0185009    0.00671729\n",
       " 0.0121532   0.0118503   0.00954028     0.0181576  0.0185009    0.00671729\n",
       " 0.0111674   0.0107585   0.00954028     0.0181576  0.0185009    0.00671729\n",
       " 0.0105553   0.00993259  0.0114483      0.0181576  0.0185009    0.00671729\n",
       " 0.0124426   0.0119508   0.0133564      0.0181576  0.0185009    0.00671729\n",
       " 0.0107345   0.00972527  0.00763223  …  0.0181576  0.0185009    0.00671729\n",
       " 0.0120402   0.0123931   0.00763223     0.0181576  0.0185009    0.00671729\n",
       " 0.0101072   0.0101745   0.00954028     0.0181576  0.0185009    0.00671729\n",
       " 0.00999954  0.0108885   0.0133564      0.0181576  0.0185009    0.00671729\n",
       " 0.00993022  0.0106795   0.00763223     0.0181576  0.0185009    0.00671729"
      ]
     },
     "execution_count": 5,
     "metadata": {},
     "output_type": "execute_result"
    }
   ],
   "source": [
    "data = convert(Array, data)"
   ]
  },
  {
   "cell_type": "markdown",
   "id": "diverse-candle",
   "metadata": {},
   "source": [
    "# K-means"
   ]
  },
  {
   "cell_type": "code",
   "execution_count": 43,
   "id": "personal-cigarette",
   "metadata": {},
   "outputs": [
    {
     "name": "stdout",
     "output_type": "stream",
     "text": [
      "  5.698917 seconds (8.43 M allocations: 405.840 MiB, 4.00% gc time)\n"
     ]
    },
    {
     "data": {
      "text/plain": [
       "8525×8525 Array{Float64,2}:\n",
       " 0.0          0.000551137  0.00113967   …  0.00193221   0.0013498\n",
       " 0.000551137  0.0          0.000968337     0.00173355   0.00160388\n",
       " 0.00113967   0.000968337  0.0             0.0021743    0.00217171\n",
       " 0.000228555  0.000444263  0.00126881      0.00222615   0.00130367\n",
       " 0.000229353  0.000418823  0.0010581       0.00184692   0.0011741\n",
       " 0.000466415  0.000670213  0.0011468    …  0.0023601    0.00146583\n",
       " 0.00057534   0.000544728  0.000988891     0.00207822   0.00203174\n",
       " 0.00027382   0.000392487  0.00107116      0.00195636   0.00130721\n",
       " 0.000920251  0.00148652   0.00122148      0.00269434   0.00215362\n",
       " 0.000178024  0.000560971  0.000877873     0.00180136   0.00123584\n",
       " 0.0005569    0.000197439  0.000870249  …  0.00200922   0.00171633\n",
       " 0.000408678  8.64043e-5   0.000907465     0.00162908   0.00161291\n",
       " 0.000586354  0.000475956  0.000728718     0.00178583   0.0018013\n",
       " ⋮                                      ⋱               \n",
       " 0.001437     0.00184152   0.0022709       0.000423293  0.000146658\n",
       " 0.00130977   0.00202839   0.00274808      0.00131343   0.000596933\n",
       " 0.00151345   0.0018368    0.00195541   …  0.000875286  0.000257042\n",
       " 0.0018796    0.00155544   0.00202361      0.00109244   0.000838778\n",
       " 0.0021889    0.00194654   0.00175409      0.000909811  0.00152087\n",
       " 0.00175639   0.00145894   0.00153954      0.000620101  0.00117909\n",
       " 0.00213255   0.00280825   0.00297778      0.00205268   0.00131638\n",
       " 0.00195872   0.00228292   0.00205051   …  0.000663096  0.000613886\n",
       " 0.00209641   0.0022364    0.00277437      0.0015047    0.0013589\n",
       " 0.00160922   0.0015068    0.00242595      0.00058646   0.000588859\n",
       " 0.00193221   0.00173355   0.0021743       0.0          0.000622641\n",
       " 0.0013498    0.00160388   0.00217171      0.000622641  0.0"
      ]
     },
     "execution_count": 43,
     "metadata": {},
     "output_type": "execute_result"
    }
   ],
   "source": [
    "using Distances\n",
    "using Statistics\n",
    "\n",
    "@time R = kmeans(data',3, maxiter=200);\n",
    "\n",
    "a = assignments(R)\n",
    "c = counts(R)\n",
    "distances = pairwise(SqEuclidean(), data')\n",
    "\n"
   ]
  },
  {
   "cell_type": "code",
   "execution_count": 9,
   "id": "hairy-scoop",
   "metadata": {},
   "outputs": [
    {
     "data": {
      "text/plain": [
       "0.2888818238308511"
      ]
     },
     "execution_count": 9,
     "metadata": {},
     "output_type": "execute_result"
    }
   ],
   "source": [
    "mean(silhouettes(a, c, distances))"
   ]
  },
  {
   "cell_type": "code",
   "execution_count": 10,
   "id": "fallen-heritage",
   "metadata": {},
   "outputs": [
    {
     "name": "stdout",
     "output_type": "stream",
     "text": [
      "\u001b[1mDataFrameRow\u001b[0m\n",
      "\u001b[1m Row \u001b[0m│\u001b[1m tumorsize \u001b[0m\u001b[1m co2       \u001b[0m\u001b[1m pain       \u001b[0m\u001b[1m wound      \u001b[0m\u001b[1m mobility   \u001b[0m\u001b[1m ntumors \u001b[0m\u001b[1m nmorphine \u001b[0m\u001b[1m remission \u001b[0m\u001b[1m lungcapacity \u001b[0m\u001b[1m Age        \u001b[0m\u001b[1m Married   \u001b[0m\u001b[1m FamilyHx \u001b[0m\u001b[1m SmokingHx \u001b[0m\u001b[1m Sex       \u001b[0m\u001b[1m CancerStage \u001b[0m\u001b[1m LengthofStay \u001b[0m\u001b[1m WBC       \u001b[0m\u001b[1m RBC       \u001b[0m\u001b[1m BMI        \u001b[0m\u001b[1m IL6       \u001b[0m\u001b[1m CRP        \u001b[0m\u001b[1m DID        \u001b[0m\u001b[1m Experience \u001b[0m\u001b[1m School    \u001b[0m\u001b[1m Lawsuits   \u001b[0m\u001b[1m HID        \u001b[0m\u001b[1m Medicaid  \u001b[0m\n",
      "\u001b[1m     \u001b[0m│\u001b[90m Float64   \u001b[0m\u001b[90m Float64   \u001b[0m\u001b[90m Float64    \u001b[0m\u001b[90m Float64    \u001b[0m\u001b[90m Float64    \u001b[0m\u001b[90m Float64 \u001b[0m\u001b[90m Float64   \u001b[0m\u001b[90m Float64   \u001b[0m\u001b[90m Float64      \u001b[0m\u001b[90m Float64    \u001b[0m\u001b[90m Float64   \u001b[0m\u001b[90m Float64  \u001b[0m\u001b[90m Float64   \u001b[0m\u001b[90m Float64   \u001b[0m\u001b[90m Float64     \u001b[0m\u001b[90m Float64      \u001b[0m\u001b[90m Float64   \u001b[0m\u001b[90m Float64   \u001b[0m\u001b[90m Float64    \u001b[0m\u001b[90m Float64   \u001b[0m\u001b[90m Float64    \u001b[0m\u001b[90m Float64    \u001b[0m\u001b[90m Float64    \u001b[0m\u001b[90m Float64   \u001b[0m\u001b[90m Float64    \u001b[0m\u001b[90m Float64    \u001b[0m\u001b[90m Float64   \u001b[0m\n",
      "─────┼────────────────────────────────────────────────────────────────────────────────────────────────────────────────────────────────────────────────────────────────────────────────────────────────────────────────────────────────────────────────────────────────────────────────────────────────────────────────────────\n",
      " 998 │ 0.0101702  0.0108746  0.00763223  0.00730406  0.00865207      0.0        0.0        0.0     0.0121945  0.00815865  0.0139823  0.024218  0.0134337  0.0171247    0.0074731    0.00774779  0.0108744  0.0116212  0.00917336  0.0098574  0.00449532  0.00206667     0.01316  0.0217186  0.00907882  0.00211439  0.0114418\n",
      "\n",
      "\n",
      "\u001b[1mDataFrameRow\u001b[0m\n",
      "\u001b[1m  Row \u001b[0m│\u001b[1m tumorsize \u001b[0m\u001b[1m co2       \u001b[0m\u001b[1m pain       \u001b[0m\u001b[1m wound      \u001b[0m\u001b[1m mobility   \u001b[0m\u001b[1m ntumors    \u001b[0m\u001b[1m nmorphine  \u001b[0m\u001b[1m remission \u001b[0m\u001b[1m lungcapacity \u001b[0m\u001b[1m Age        \u001b[0m\u001b[1m Married \u001b[0m\u001b[1m FamilyHx \u001b[0m\u001b[1m SmokingHx \u001b[0m\u001b[1m Sex       \u001b[0m\u001b[1m CancerStage \u001b[0m\u001b[1m LengthofStay \u001b[0m\u001b[1m WBC        \u001b[0m\u001b[1m RBC      \u001b[0m\u001b[1m BMI        \u001b[0m\u001b[1m IL6        \u001b[0m\u001b[1m CRP        \u001b[0m\u001b[1m DID        \u001b[0m\u001b[1m Experience \u001b[0m\u001b[1m School    \u001b[0m\u001b[1m Lawsuits   \u001b[0m\u001b[1m HID        \u001b[0m\u001b[1m Medicaid   \u001b[0m\n",
      "\u001b[1m      \u001b[0m│\u001b[90m Float64   \u001b[0m\u001b[90m Float64   \u001b[0m\u001b[90m Float64    \u001b[0m\u001b[90m Float64    \u001b[0m\u001b[90m Float64    \u001b[0m\u001b[90m Float64    \u001b[0m\u001b[90m Float64    \u001b[0m\u001b[90m Float64   \u001b[0m\u001b[90m Float64      \u001b[0m\u001b[90m Float64    \u001b[0m\u001b[90m Float64 \u001b[0m\u001b[90m Float64  \u001b[0m\u001b[90m Float64   \u001b[0m\u001b[90m Float64   \u001b[0m\u001b[90m Float64     \u001b[0m\u001b[90m Float64      \u001b[0m\u001b[90m Float64    \u001b[0m\u001b[90m Float64  \u001b[0m\u001b[90m Float64    \u001b[0m\u001b[90m Float64    \u001b[0m\u001b[90m Float64    \u001b[0m\u001b[90m Float64    \u001b[0m\u001b[90m Float64    \u001b[0m\u001b[90m Float64   \u001b[0m\u001b[90m Float64    \u001b[0m\u001b[90m Float64    \u001b[0m\u001b[90m Float64    \u001b[0m\n",
      "──────┼────────────────────────────────────────────────────────────────────────────────────────────────────────────────────────────────────────────────────────────────────────────────────────────────────────────────────────────────────────────────────────────────────────────────────────────────────────────────────────────\n",
      " 2509 │ 0.0127964  0.0121852  0.00763223  0.00913008  0.00865207  0.00271553  0.00245896  0.0199165      0.010692  0.00915596      0.0  0.024218        0.0  0.0171247          0.0     0.0116217  0.00998287  0.010049  0.00941336  0.00550752  0.00808657  0.00537334   0.0107673  0.0217186  0.00453941  0.00528598  0.00623047\n",
      "\n",
      "\n",
      "\u001b[1mDataFrameRow\u001b[0m\n",
      "\u001b[1m  Row \u001b[0m│\u001b[1m tumorsize \u001b[0m\u001b[1m co2       \u001b[0m\u001b[1m pain      \u001b[0m\u001b[1m wound     \u001b[0m\u001b[1m mobility  \u001b[0m\u001b[1m ntumors    \u001b[0m\u001b[1m nmorphine \u001b[0m\u001b[1m remission \u001b[0m\u001b[1m lungcapacity \u001b[0m\u001b[1m Age     \u001b[0m\u001b[1m Married   \u001b[0m\u001b[1m FamilyHx \u001b[0m\u001b[1m SmokingHx  \u001b[0m\u001b[1m Sex     \u001b[0m\u001b[1m CancerStage \u001b[0m\u001b[1m LengthofStay \u001b[0m\u001b[1m WBC       \u001b[0m\u001b[1m RBC       \u001b[0m\u001b[1m BMI       \u001b[0m\u001b[1m IL6       \u001b[0m\u001b[1m CRP       \u001b[0m\u001b[1m DID       \u001b[0m\u001b[1m Experience \u001b[0m\u001b[1m School    \u001b[0m\u001b[1m Lawsuits   \u001b[0m\u001b[1m HID        \u001b[0m\u001b[1m Medicaid  \u001b[0m\n",
      "\u001b[1m      \u001b[0m│\u001b[90m Float64   \u001b[0m\u001b[90m Float64   \u001b[0m\u001b[90m Float64   \u001b[0m\u001b[90m Float64   \u001b[0m\u001b[90m Float64   \u001b[0m\u001b[90m Float64    \u001b[0m\u001b[90m Float64   \u001b[0m\u001b[90m Float64   \u001b[0m\u001b[90m Float64      \u001b[0m\u001b[90m Float64 \u001b[0m\u001b[90m Float64   \u001b[0m\u001b[90m Float64  \u001b[0m\u001b[90m Float64    \u001b[0m\u001b[90m Float64 \u001b[0m\u001b[90m Float64     \u001b[0m\u001b[90m Float64      \u001b[0m\u001b[90m Float64   \u001b[0m\u001b[90m Float64   \u001b[0m\u001b[90m Float64   \u001b[0m\u001b[90m Float64   \u001b[0m\u001b[90m Float64   \u001b[0m\u001b[90m Float64   \u001b[0m\u001b[90m Float64    \u001b[0m\u001b[90m Float64   \u001b[0m\u001b[90m Float64    \u001b[0m\u001b[90m Float64    \u001b[0m\u001b[90m Float64   \u001b[0m\n",
      "──────┼─────────────────────────────────────────────────────────────────────────────────────────────────────────────────────────────────────────────────────────────────────────────────────────────────────────────────────────────────────────────────────────────────────────────────────────────────────────────────\n",
      " 2666 │ 0.0115441  0.0120945  0.0152645  0.0109561  0.0138433  0.00543105  0.0270485  0.0199165     0.0124692  0.01216  0.0139823  0.024218  0.00671686      0.0          0.0     0.0135586  0.0131864  0.0100878  0.0120246  0.0132056  0.0113246  0.0058326   0.0101691  0.0217186  0.00453941  0.00581457  0.0160401\n",
      "\n",
      "\n"
     ]
    }
   ],
   "source": [
    "j = 1\n",
    "cnt = 0;\n",
    "for i in silhouettes(a, c, distances)\n",
    "    if cnt == 3\n",
    "        break\n",
    "    end\n",
    "    if i < 0\n",
    "        println(original[j, :],\"\\n\\n\")\n",
    "        cnt += 1\n",
    "    end\n",
    "    j += 1\n",
    "end"
   ]
  },
  {
   "cell_type": "code",
   "execution_count": 11,
   "id": "played-arkansas",
   "metadata": {
    "scrolled": false
   },
   "outputs": [
    {
     "data": {
      "text/plain": [
       "27×3 Array{Float64,2}:\n",
       " 0.0103173   0.010433    0.0117672\n",
       " 0.0106333   0.0106903   0.0112877\n",
       " 0.0104399   0.0104835   0.0103259\n",
       " 0.0108021   0.0103549   0.0104709\n",
       " 0.0116967   0.0101608   0.0104485\n",
       " 0.00642599  0.00647951  0.0157676\n",
       " 0.00887356  0.00879354  0.00930221\n",
       " 0.00591346  0.00680559  0.00310721\n",
       " 0.010773    0.0106178   0.0101865\n",
       " 0.0107636   0.0107309   0.0107915\n",
       " 0.00851058  0.00844761  0.00809413\n",
       " 0.0         0.0         0.024218\n",
       " 0.0101271   0.0101943   0.00630715\n",
       " ⋮                       \n",
       " 0.0104151   0.0104722   0.0113581\n",
       " 0.010707    0.010684    0.0106639\n",
       " 0.0107957   0.0108144   0.0108235\n",
       " 0.0105055   0.010617    0.0104327\n",
       " 0.00875789  0.00883482  0.00885865\n",
       " 0.0090875   0.00923557  0.00912475\n",
       " 0.00893151  0.00948156  0.00930786\n",
       " 0.0106362   0.010513    0.0105898\n",
       " 0.0217186   0.0         0.00555385\n",
       " 0.0062026   0.00924233  0.00839458\n",
       " 0.00901598  0.00952495  0.00935354\n",
       " 0.0101029   0.0100394   0.00998415"
      ]
     },
     "execution_count": 11,
     "metadata": {},
     "output_type": "execute_result"
    }
   ],
   "source": [
    "R.centers"
   ]
  },
  {
   "cell_type": "markdown",
   "id": "static-gibson",
   "metadata": {},
   "source": [
    "# Kmedoids"
   ]
  },
  {
   "cell_type": "code",
   "execution_count": 12,
   "id": "multiple-commodity",
   "metadata": {},
   "outputs": [
    {
     "name": "stdout",
     "output_type": "stream",
     "text": [
      "  3.663779 seconds (552.16 k allocations: 725.467 MiB, 12.10% gc time)\n"
     ]
    },
    {
     "data": {
      "text/plain": [
       "3-element Array{Int64,1}:\n",
       " 1697\n",
       " 2771\n",
       " 4057"
      ]
     },
     "execution_count": 12,
     "metadata": {},
     "output_type": "execute_result"
    }
   ],
   "source": [
    "using Distances\n",
    "using Statistics\n",
    "\n",
    "distances = pairwise(SqEuclidean(), data')\n",
    "@time R = kmedoids(distances,3, maxiter=200);\n",
    "\n",
    "a = assignments(R)\n",
    "c = counts(R)"
   ]
  },
  {
   "cell_type": "code",
   "execution_count": 13,
   "id": "medium-parent",
   "metadata": {},
   "outputs": [
    {
     "data": {
      "text/plain": [
       "0.21647242181712809"
      ]
     },
     "execution_count": 13,
     "metadata": {},
     "output_type": "execute_result"
    }
   ],
   "source": [
    "mean(silhouettes(a, c, distances))"
   ]
  },
  {
   "cell_type": "code",
   "execution_count": 14,
   "id": "simplified-bibliography",
   "metadata": {},
   "outputs": [
    {
     "name": "stdout",
     "output_type": "stream",
     "text": [
      "\u001b[1mDataFrameRow\u001b[0m\n",
      "\u001b[1m Row \u001b[0m│\u001b[1m tumorsize \u001b[0m\u001b[1m co2       \u001b[0m\u001b[1m pain      \u001b[0m\u001b[1m wound      \u001b[0m\u001b[1m mobility   \u001b[0m\u001b[1m ntumors \u001b[0m\u001b[1m nmorphine  \u001b[0m\u001b[1m remission \u001b[0m\u001b[1m lungcapacity \u001b[0m\u001b[1m Age      \u001b[0m\u001b[1m Married   \u001b[0m\u001b[1m FamilyHx \u001b[0m\u001b[1m SmokingHx \u001b[0m\u001b[1m Sex       \u001b[0m\u001b[1m CancerStage \u001b[0m\u001b[1m LengthofStay \u001b[0m\u001b[1m WBC        \u001b[0m\u001b[1m RBC        \u001b[0m\u001b[1m BMI       \u001b[0m\u001b[1m IL6        \u001b[0m\u001b[1m CRP        \u001b[0m\u001b[1m DID        \u001b[0m\u001b[1m Experience \u001b[0m\u001b[1m School  \u001b[0m\u001b[1m Lawsuits  \u001b[0m\u001b[1m HID        \u001b[0m\u001b[1m Medicaid   \u001b[0m\n",
      "\u001b[1m     \u001b[0m│\u001b[90m Float64   \u001b[0m\u001b[90m Float64   \u001b[0m\u001b[90m Float64   \u001b[0m\u001b[90m Float64    \u001b[0m\u001b[90m Float64    \u001b[0m\u001b[90m Float64 \u001b[0m\u001b[90m Float64    \u001b[0m\u001b[90m Float64   \u001b[0m\u001b[90m Float64      \u001b[0m\u001b[90m Float64  \u001b[0m\u001b[90m Float64   \u001b[0m\u001b[90m Float64  \u001b[0m\u001b[90m Float64   \u001b[0m\u001b[90m Float64   \u001b[0m\u001b[90m Float64     \u001b[0m\u001b[90m Float64      \u001b[0m\u001b[90m Float64    \u001b[0m\u001b[90m Float64    \u001b[0m\u001b[90m Float64   \u001b[0m\u001b[90m Float64    \u001b[0m\u001b[90m Float64    \u001b[0m\u001b[90m Float64    \u001b[0m\u001b[90m Float64    \u001b[0m\u001b[90m Float64 \u001b[0m\u001b[90m Float64   \u001b[0m\u001b[90m Float64    \u001b[0m\u001b[90m Float64    \u001b[0m\n",
      "─────┼──────────────────────────────────────────────────────────────────────────────────────────────────────────────────────────────────────────────────────────────────────────────────────────────────────────────────────────────────────────────────────────────────────────────────────────────────────────────────────\n",
      " 511 │ 0.0107265  0.0107362  0.0114483  0.00913008  0.00519124      0.0  0.00491791        0.0     0.0116379  0.010554  0.0139823  0.024218  0.0134337  0.0171247    0.0074731     0.0116217  0.00889647  0.00966111  0.0104348  0.00250054  0.00695163  0.00110222   0.0113655      0.0  0.0136182  0.00158579  0.00946852\n",
      "\n",
      "\n",
      "\u001b[1mDataFrameRow\u001b[0m\n",
      "\u001b[1m Row \u001b[0m│\u001b[1m tumorsize \u001b[0m\u001b[1m co2       \u001b[0m\u001b[1m pain       \u001b[0m\u001b[1m wound      \u001b[0m\u001b[1m mobility   \u001b[0m\u001b[1m ntumors \u001b[0m\u001b[1m nmorphine  \u001b[0m\u001b[1m remission \u001b[0m\u001b[1m lungcapacity \u001b[0m\u001b[1m Age       \u001b[0m\u001b[1m Married   \u001b[0m\u001b[1m FamilyHx \u001b[0m\u001b[1m SmokingHx \u001b[0m\u001b[1m Sex       \u001b[0m\u001b[1m CancerStage \u001b[0m\u001b[1m LengthofStay \u001b[0m\u001b[1m WBC       \u001b[0m\u001b[1m RBC       \u001b[0m\u001b[1m BMI        \u001b[0m\u001b[1m IL6        \u001b[0m\u001b[1m CRP        \u001b[0m\u001b[1m DID        \u001b[0m\u001b[1m Experience \u001b[0m\u001b[1m School  \u001b[0m\u001b[1m Lawsuits  \u001b[0m\u001b[1m HID        \u001b[0m\u001b[1m Medicaid   \u001b[0m\n",
      "\u001b[1m     \u001b[0m│\u001b[90m Float64   \u001b[0m\u001b[90m Float64   \u001b[0m\u001b[90m Float64    \u001b[0m\u001b[90m Float64    \u001b[0m\u001b[90m Float64    \u001b[0m\u001b[90m Float64 \u001b[0m\u001b[90m Float64    \u001b[0m\u001b[90m Float64   \u001b[0m\u001b[90m Float64      \u001b[0m\u001b[90m Float64   \u001b[0m\u001b[90m Float64   \u001b[0m\u001b[90m Float64  \u001b[0m\u001b[90m Float64   \u001b[0m\u001b[90m Float64   \u001b[0m\u001b[90m Float64     \u001b[0m\u001b[90m Float64      \u001b[0m\u001b[90m Float64   \u001b[0m\u001b[90m Float64   \u001b[0m\u001b[90m Float64    \u001b[0m\u001b[90m Float64    \u001b[0m\u001b[90m Float64    \u001b[0m\u001b[90m Float64    \u001b[0m\u001b[90m Float64    \u001b[0m\u001b[90m Float64 \u001b[0m\u001b[90m Float64   \u001b[0m\u001b[90m Float64    \u001b[0m\u001b[90m Float64    \u001b[0m\n",
      "─────┼───────────────────────────────────────────────────────────────────────────────────────────────────────────────────────────────────────────────────────────────────────────────────────────────────────────────────────────────────────────────────────────────────────────────────────────────────────────────────────\n",
      " 517 │ 0.0112273  0.0104662  0.00763223  0.00913008  0.00519124      0.0  0.00491791        0.0      0.011297  0.0111574  0.0139823  0.024218  0.0134337  0.0171247    0.0074731     0.0116217  0.0110376  0.0113822  0.00818283  0.00536997  0.00959959  0.00110222   0.0113655      0.0  0.0136182  0.00158579  0.00946852\n",
      "\n",
      "\n",
      "\u001b[1mDataFrameRow\u001b[0m\n",
      "\u001b[1m Row \u001b[0m│\u001b[1m tumorsize  \u001b[0m\u001b[1m co2       \u001b[0m\u001b[1m pain       \u001b[0m\u001b[1m wound     \u001b[0m\u001b[1m mobility   \u001b[0m\u001b[1m ntumors \u001b[0m\u001b[1m nmorphine \u001b[0m\u001b[1m remission \u001b[0m\u001b[1m lungcapacity \u001b[0m\u001b[1m Age        \u001b[0m\u001b[1m Married \u001b[0m\u001b[1m FamilyHx \u001b[0m\u001b[1m SmokingHx \u001b[0m\u001b[1m Sex       \u001b[0m\u001b[1m CancerStage \u001b[0m\u001b[1m LengthofStay \u001b[0m\u001b[1m WBC       \u001b[0m\u001b[1m RBC       \u001b[0m\u001b[1m BMI       \u001b[0m\u001b[1m IL6        \u001b[0m\u001b[1m CRP       \u001b[0m\u001b[1m DID        \u001b[0m\u001b[1m Experience \u001b[0m\u001b[1m School  \u001b[0m\u001b[1m Lawsuits  \u001b[0m\u001b[1m HID        \u001b[0m\u001b[1m Medicaid   \u001b[0m\n",
      "\u001b[1m     \u001b[0m│\u001b[90m Float64    \u001b[0m\u001b[90m Float64   \u001b[0m\u001b[90m Float64    \u001b[0m\u001b[90m Float64   \u001b[0m\u001b[90m Float64    \u001b[0m\u001b[90m Float64 \u001b[0m\u001b[90m Float64   \u001b[0m\u001b[90m Float64   \u001b[0m\u001b[90m Float64      \u001b[0m\u001b[90m Float64    \u001b[0m\u001b[90m Float64 \u001b[0m\u001b[90m Float64  \u001b[0m\u001b[90m Float64   \u001b[0m\u001b[90m Float64   \u001b[0m\u001b[90m Float64     \u001b[0m\u001b[90m Float64      \u001b[0m\u001b[90m Float64   \u001b[0m\u001b[90m Float64   \u001b[0m\u001b[90m Float64   \u001b[0m\u001b[90m Float64    \u001b[0m\u001b[90m Float64   \u001b[0m\u001b[90m Float64    \u001b[0m\u001b[90m Float64    \u001b[0m\u001b[90m Float64 \u001b[0m\u001b[90m Float64   \u001b[0m\u001b[90m Float64    \u001b[0m\u001b[90m Float64    \u001b[0m\n",
      "─────┼───────────────────────────────────────────────────────────────────────────────────────────────────────────────────────────────────────────────────────────────────────────────────────────────────────────────────────────────────────────────────────────────────────────────────────────────────────────────────\n",
      " 523 │ 0.00873508  0.0120238  0.00954028  0.0109561  0.00519124      0.0  0.0172127  0.0199165     0.0112397  0.00780603      0.0  0.024218        0.0  0.0171247          0.0    0.00968474  0.0127505  0.0107666  0.0105841  0.00637297  0.0155141  0.00114815   0.0113655      0.0  0.0181576  0.00158579  0.00946852\n",
      "\n",
      "\n"
     ]
    }
   ],
   "source": [
    "j = 1\n",
    "cnt = 0;\n",
    "for i in silhouettes(a, c, distances)\n",
    "    if cnt == 3\n",
    "        break\n",
    "    end\n",
    "    if i < 0\n",
    "        println(original[j, :],\"\\n\\n\")\n",
    "        cnt += 1\n",
    "    end\n",
    "    j += 1\n",
    "end"
   ]
  },
  {
   "cell_type": "markdown",
   "id": "crucial-dream",
   "metadata": {},
   "source": [
    "# Hierarchical "
   ]
  },
  {
   "cell_type": "code",
   "execution_count": 15,
   "id": "prime-combat",
   "metadata": {},
   "outputs": [
    {
     "data": {
      "text/plain": [
       "Hclust{Float64}([-3227 -3235; -2408 -2423; … ; -3101 8522; -5766 8523], [1.8885154173959792e-5, 1.920479235226289e-5, 2.359807873162246e-5, 2.6324399816305376e-5, 2.6573659059937922e-5, 2.7150307624347093e-5, 2.7772851765730557e-5, 2.8083028342142796e-5, 2.8173670500750668e-5, 2.867911321459589e-5  …  0.0006462768696358055, 0.0006609497285471368, 0.00069455342778528, 0.0007415326186347264, 0.0008045613089733613, 0.0008702372597030102, 0.00087508991147312, 0.0009392039321619687, 0.0010083375662833568, 0.0010616446280481556], [5766, 3101, 913, 5215, 7887, 8051, 8022, 6379, 3070, 3729  …  5876, 6023, 6085, 6075, 6097, 5871, 6077, 5125, 2049, 3083], :single)"
      ]
     },
     "execution_count": 15,
     "metadata": {},
     "output_type": "execute_result"
    }
   ],
   "source": [
    "result = hclust(distances, linkage=:single)"
   ]
  },
  {
   "cell_type": "code",
   "execution_count": 16,
   "id": "funky-prediction",
   "metadata": {},
   "outputs": [
    {
     "data": {
      "text/plain": [
       "0.5540756582058237"
      ]
     },
     "execution_count": 16,
     "metadata": {},
     "output_type": "execute_result"
    }
   ],
   "source": [
    "assign = cutree(result, k=2)\n",
    "mean(silhouettes(assign,distances))"
   ]
  },
  {
   "cell_type": "code",
   "execution_count": 17,
   "id": "american-modem",
   "metadata": {},
   "outputs": [
    {
     "name": "stdout",
     "output_type": "stream",
     "text": [
      "\u001b[1mDataFrameRow\u001b[0m\n",
      "\u001b[1m Row \u001b[0m│\u001b[1m tumorsize \u001b[0m\u001b[1m co2       \u001b[0m\u001b[1m pain      \u001b[0m\u001b[1m wound     \u001b[0m\u001b[1m mobility   \u001b[0m\u001b[1m ntumors   \u001b[0m\u001b[1m nmorphine \u001b[0m\u001b[1m remission \u001b[0m\u001b[1m lungcapacity \u001b[0m\u001b[1m Age        \u001b[0m\u001b[1m Married   \u001b[0m\u001b[1m FamilyHx \u001b[0m\u001b[1m SmokingHx  \u001b[0m\u001b[1m Sex       \u001b[0m\u001b[1m CancerStage \u001b[0m\u001b[1m LengthofStay \u001b[0m\u001b[1m WBC       \u001b[0m\u001b[1m RBC       \u001b[0m\u001b[1m BMI       \u001b[0m\u001b[1m IL6        \u001b[0m\u001b[1m CRP       \u001b[0m\u001b[1m DID        \u001b[0m\u001b[1m Experience \u001b[0m\u001b[1m School  \u001b[0m\u001b[1m Lawsuits   \u001b[0m\u001b[1m HID         \u001b[0m\u001b[1m Medicaid  \u001b[0m\n",
      "\u001b[1m     \u001b[0m│\u001b[90m Float64   \u001b[0m\u001b[90m Float64   \u001b[0m\u001b[90m Float64   \u001b[0m\u001b[90m Float64   \u001b[0m\u001b[90m Float64    \u001b[0m\u001b[90m Float64   \u001b[0m\u001b[90m Float64   \u001b[0m\u001b[90m Float64   \u001b[0m\u001b[90m Float64      \u001b[0m\u001b[90m Float64    \u001b[0m\u001b[90m Float64   \u001b[0m\u001b[90m Float64  \u001b[0m\u001b[90m Float64    \u001b[0m\u001b[90m Float64   \u001b[0m\u001b[90m Float64     \u001b[0m\u001b[90m Float64      \u001b[0m\u001b[90m Float64   \u001b[0m\u001b[90m Float64   \u001b[0m\u001b[90m Float64   \u001b[0m\u001b[90m Float64    \u001b[0m\u001b[90m Float64   \u001b[0m\u001b[90m Float64    \u001b[0m\u001b[90m Float64    \u001b[0m\u001b[90m Float64 \u001b[0m\u001b[90m Float64    \u001b[0m\u001b[90m Float64     \u001b[0m\u001b[90m Float64   \u001b[0m\n",
      "─────┼───────────────────────────────────────────────────────────────────────────────────────────────────────────────────────────────────────────────────────────────────────────────────────────────────────────────────────────────────────────────────────────────────────────────────────────────────────────────────────\n",
      "  37 │ 0.0106405  0.0109828  0.0114483  0.0146081  0.00865207  0.0190087  0.0147537        0.0    0.00612496  0.00922026  0.0139823  0.024218  0.00671686  0.0171247          0.0     0.0116217  0.0123054  0.0111503  0.0146842  0.00495745  0.0277589  9.18519e-5  0.00837456      0.0  0.00453941  0.000528598  0.0118698\n",
      "\n",
      "\n",
      "\u001b[1mDataFrameRow\u001b[0m\n",
      "\u001b[1m Row \u001b[0m│\u001b[1m tumorsize \u001b[0m\u001b[1m co2       \u001b[0m\u001b[1m pain      \u001b[0m\u001b[1m wound     \u001b[0m\u001b[1m mobility   \u001b[0m\u001b[1m ntumors   \u001b[0m\u001b[1m nmorphine  \u001b[0m\u001b[1m remission \u001b[0m\u001b[1m lungcapacity \u001b[0m\u001b[1m Age       \u001b[0m\u001b[1m Married   \u001b[0m\u001b[1m FamilyHx \u001b[0m\u001b[1m SmokingHx \u001b[0m\u001b[1m Sex       \u001b[0m\u001b[1m CancerStage \u001b[0m\u001b[1m LengthofStay \u001b[0m\u001b[1m WBC       \u001b[0m\u001b[1m RBC       \u001b[0m\u001b[1m BMI       \u001b[0m\u001b[1m IL6       \u001b[0m\u001b[1m CRP       \u001b[0m\u001b[1m DID        \u001b[0m\u001b[1m Experience \u001b[0m\u001b[1m School  \u001b[0m\u001b[1m Lawsuits   \u001b[0m\u001b[1m HID        \u001b[0m\u001b[1m Medicaid   \u001b[0m\n",
      "\u001b[1m     \u001b[0m│\u001b[90m Float64   \u001b[0m\u001b[90m Float64   \u001b[0m\u001b[90m Float64   \u001b[0m\u001b[90m Float64   \u001b[0m\u001b[90m Float64    \u001b[0m\u001b[90m Float64   \u001b[0m\u001b[90m Float64    \u001b[0m\u001b[90m Float64   \u001b[0m\u001b[90m Float64      \u001b[0m\u001b[90m Float64   \u001b[0m\u001b[90m Float64   \u001b[0m\u001b[90m Float64  \u001b[0m\u001b[90m Float64   \u001b[0m\u001b[90m Float64   \u001b[0m\u001b[90m Float64     \u001b[0m\u001b[90m Float64      \u001b[0m\u001b[90m Float64   \u001b[0m\u001b[90m Float64   \u001b[0m\u001b[90m Float64   \u001b[0m\u001b[90m Float64   \u001b[0m\u001b[90m Float64   \u001b[0m\u001b[90m Float64    \u001b[0m\u001b[90m Float64    \u001b[0m\u001b[90m Float64 \u001b[0m\u001b[90m Float64    \u001b[0m\u001b[90m Float64    \u001b[0m\u001b[90m Float64    \u001b[0m\n",
      "─────┼─────────────────────────────────────────────────────────────────────────────────────────────────────────────────────────────────────────────────────────────────────────────────────────────────────────────────────────────────────────────────────────────────────────────────────────────────────────────────────\n",
      " 560 │ 0.0142899  0.0116996  0.0171725  0.0127821  0.00519124  0.0135776  0.00245896        0.0     0.0104906  0.0114587  0.0139823  0.024218        0.0  0.0171247          0.0    0.00968474  0.0122839  0.0107233  0.0107438  0.0204769  0.0239658  0.00119407  0.00658001      0.0  0.00907882  0.00158579  0.00946852\n",
      "\n",
      "\n",
      "\u001b[1mDataFrameRow\u001b[0m\n",
      "\u001b[1m Row \u001b[0m│\u001b[1m tumorsize  \u001b[0m\u001b[1m co2       \u001b[0m\u001b[1m pain      \u001b[0m\u001b[1m wound     \u001b[0m\u001b[1m mobility  \u001b[0m\u001b[1m ntumors   \u001b[0m\u001b[1m nmorphine  \u001b[0m\u001b[1m remission \u001b[0m\u001b[1m lungcapacity \u001b[0m\u001b[1m Age       \u001b[0m\u001b[1m Married   \u001b[0m\u001b[1m FamilyHx \u001b[0m\u001b[1m SmokingHx \u001b[0m\u001b[1m Sex       \u001b[0m\u001b[1m CancerStage \u001b[0m\u001b[1m LengthofStay \u001b[0m\u001b[1m WBC       \u001b[0m\u001b[1m RBC       \u001b[0m\u001b[1m BMI       \u001b[0m\u001b[1m IL6        \u001b[0m\u001b[1m CRP       \u001b[0m\u001b[1m DID        \u001b[0m\u001b[1m Experience \u001b[0m\u001b[1m School  \u001b[0m\u001b[1m Lawsuits \u001b[0m\u001b[1m HID        \u001b[0m\u001b[1m Medicaid  \u001b[0m\n",
      "\u001b[1m     \u001b[0m│\u001b[90m Float64    \u001b[0m\u001b[90m Float64   \u001b[0m\u001b[90m Float64   \u001b[0m\u001b[90m Float64   \u001b[0m\u001b[90m Float64   \u001b[0m\u001b[90m Float64   \u001b[0m\u001b[90m Float64    \u001b[0m\u001b[90m Float64   \u001b[0m\u001b[90m Float64      \u001b[0m\u001b[90m Float64   \u001b[0m\u001b[90m Float64   \u001b[0m\u001b[90m Float64  \u001b[0m\u001b[90m Float64   \u001b[0m\u001b[90m Float64   \u001b[0m\u001b[90m Float64     \u001b[0m\u001b[90m Float64      \u001b[0m\u001b[90m Float64   \u001b[0m\u001b[90m Float64   \u001b[0m\u001b[90m Float64   \u001b[0m\u001b[90m Float64    \u001b[0m\u001b[90m Float64   \u001b[0m\u001b[90m Float64    \u001b[0m\u001b[90m Float64    \u001b[0m\u001b[90m Float64 \u001b[0m\u001b[90m Float64  \u001b[0m\u001b[90m Float64    \u001b[0m\u001b[90m Float64   \u001b[0m\n",
      "─────┼───────────────────────────────────────────────────────────────────────────────────────────────────────────────────────────────────────────────────────────────────────────────────────────────────────────────────────────────────────────────────────────────────────────────────────────────────────────────────\n",
      " 911 │ 0.00996978  0.0112738  0.0133564  0.0164341  0.0121129  0.0190087  0.00737687  0.0199165     0.0131253  0.0100826  0.0139823  0.024218  0.0134337  0.0171247    0.0149462    0.00968474  0.0158151  0.0103382  0.0142073  0.00917855  0.0249331  0.00192889   0.0107673      0.0       0.0  0.00211439  0.0114418\n",
      "\n",
      "\n"
     ]
    }
   ],
   "source": [
    "j = 1\n",
    "cnt = 0;\n",
    "for i in silhouettes(assign, distances)\n",
    "    if cnt == 3\n",
    "        break\n",
    "    end\n",
    "    if i < 0\n",
    "        println(original[j, :],\"\\n\\n\")\n",
    "        cnt += 1\n",
    "    end\n",
    "    j += 1\n",
    "end"
   ]
  },
  {
   "cell_type": "markdown",
   "id": "rising-closure",
   "metadata": {},
   "source": [
    "# fuzzy_cmeans"
   ]
  },
  {
   "cell_type": "code",
   "execution_count": 49,
   "id": "genuine-brighton",
   "metadata": {},
   "outputs": [
    {
     "name": "stdout",
     "output_type": "stream",
     "text": [
      "  Iters      center-change\n",
      "----------------------------\n",
      "      1       1.489012e-01\n",
      "      2       2.476247e-04\n",
      "Fuzzy C-means converged with 2 iterations (δ = 0.0002476246534478918)\n"
     ]
    },
    {
     "data": {
      "text/plain": [
       "FuzzyCMeansResult: 2 clusters for 8525 points in 8525 dimensions (converged in 2 iterations)"
      ]
     },
     "execution_count": 49,
     "metadata": {},
     "output_type": "execute_result"
    }
   ],
   "source": [
    "R = fuzzy_cmeans(distances, 2, 2, maxiter=200, display=:iter)"
   ]
  },
  {
   "cell_type": "code",
   "execution_count": 50,
   "id": "partial-female",
   "metadata": {},
   "outputs": [
    {
     "data": {
      "text/plain": [
       "8525-element Array{Int64,1}:\n",
       " 1\n",
       " 2\n",
       " 2\n",
       " 1\n",
       " 1\n",
       " 1\n",
       " 2\n",
       " 1\n",
       " 2\n",
       " 1\n",
       " 2\n",
       " 2\n",
       " 1\n",
       " ⋮\n",
       " 1\n",
       " 1\n",
       " 1\n",
       " 1\n",
       " 1\n",
       " 1\n",
       " 2\n",
       " 1\n",
       " 1\n",
       " 1\n",
       " 1\n",
       " 1"
      ]
     },
     "execution_count": 50,
     "metadata": {},
     "output_type": "execute_result"
    }
   ],
   "source": [
    "assign = []\n",
    "\n",
    "for i in eachrow(R.weights)\n",
    "    m = max(i[1],i[2])\n",
    "    if(m == i[1])\n",
    "        append!(assign,1)\n",
    "    #elseif(m == i[2])\n",
    "            #append!(assign,2)\n",
    "    else\n",
    "        append!(assign, 2)\n",
    "    end\n",
    "end\n",
    "assign = convert(Array{Int}, assign)"
   ]
  },
  {
   "cell_type": "code",
   "execution_count": 51,
   "id": "massive-holly",
   "metadata": {},
   "outputs": [
    {
     "data": {
      "text/plain": [
       "0.17493931799354706"
      ]
     },
     "execution_count": 51,
     "metadata": {},
     "output_type": "execute_result"
    }
   ],
   "source": [
    "mean(silhouettes(assign, distances))"
   ]
  },
  {
   "cell_type": "code",
   "execution_count": 52,
   "id": "wound-image",
   "metadata": {},
   "outputs": [
    {
     "name": "stdout",
     "output_type": "stream",
     "text": [
      "\u001b[1mDataFrameRow\u001b[0m\n",
      "\u001b[1m Row \u001b[0m│\u001b[1m tumorsize  \u001b[0m\u001b[1m co2       \u001b[0m\u001b[1m pain       \u001b[0m\u001b[1m wound      \u001b[0m\u001b[1m mobility   \u001b[0m\u001b[1m ntumors \u001b[0m\u001b[1m nmorphine \u001b[0m\u001b[1m remission \u001b[0m\u001b[1m lungcapacity \u001b[0m\u001b[1m Age       \u001b[0m\u001b[1m Married \u001b[0m\u001b[1m FamilyHx \u001b[0m\u001b[1m SmokingHx  \u001b[0m\u001b[1m Sex     \u001b[0m\u001b[1m CancerStage \u001b[0m\u001b[1m LengthofStay \u001b[0m\u001b[1m WBC       \u001b[0m\u001b[1m RBC       \u001b[0m\u001b[1m BMI       \u001b[0m\u001b[1m IL6        \u001b[0m\u001b[1m CRP        \u001b[0m\u001b[1m DID       \u001b[0m\u001b[1m Experience \u001b[0m\u001b[1m School  \u001b[0m\u001b[1m Lawsuits  \u001b[0m\u001b[1m HID         \u001b[0m\u001b[1m Medicaid  \u001b[0m\n",
      "\u001b[1m     \u001b[0m│\u001b[90m Float64    \u001b[0m\u001b[90m Float64   \u001b[0m\u001b[90m Float64    \u001b[0m\u001b[90m Float64    \u001b[0m\u001b[90m Float64    \u001b[0m\u001b[90m Float64 \u001b[0m\u001b[90m Float64   \u001b[0m\u001b[90m Float64   \u001b[0m\u001b[90m Float64      \u001b[0m\u001b[90m Float64   \u001b[0m\u001b[90m Float64 \u001b[0m\u001b[90m Float64  \u001b[0m\u001b[90m Float64    \u001b[0m\u001b[90m Float64 \u001b[0m\u001b[90m Float64     \u001b[0m\u001b[90m Float64      \u001b[0m\u001b[90m Float64   \u001b[0m\u001b[90m Float64   \u001b[0m\u001b[90m Float64   \u001b[0m\u001b[90m Float64    \u001b[0m\u001b[90m Float64    \u001b[0m\u001b[90m Float64   \u001b[0m\u001b[90m Float64    \u001b[0m\u001b[90m Float64 \u001b[0m\u001b[90m Float64   \u001b[0m\u001b[90m Float64     \u001b[0m\u001b[90m Float64   \u001b[0m\n",
      "─────┼──────────────────────────────────────────────────────────────────────────────────────────────────────────────────────────────────────────────────────────────────────────────────────────────────────────────────────────────────────────────────────────────────────────────────────────────────────────────────\n",
      "   2 │ 0.00974633  0.0112756  0.00381611  0.00547805  0.00346083      0.0        0.0        0.0    0.00445425  0.0113706      0.0       0.0  0.00671686      0.0    0.0074731     0.0116217  0.0119364  0.0101285  0.0106788  0.00577197  0.00148388  4.5926e-5   0.0149546      0.0  0.0136182  0.000528598  0.0118698\n",
      "\n",
      "\n",
      "\u001b[1mDataFrameRow\u001b[0m\n",
      "\u001b[1m Row \u001b[0m│\u001b[1m tumorsize  \u001b[0m\u001b[1m co2       \u001b[0m\u001b[1m pain      \u001b[0m\u001b[1m wound      \u001b[0m\u001b[1m mobility   \u001b[0m\u001b[1m ntumors \u001b[0m\u001b[1m nmorphine \u001b[0m\u001b[1m remission \u001b[0m\u001b[1m lungcapacity \u001b[0m\u001b[1m Age       \u001b[0m\u001b[1m Married   \u001b[0m\u001b[1m FamilyHx \u001b[0m\u001b[1m SmokingHx \u001b[0m\u001b[1m Sex     \u001b[0m\u001b[1m CancerStage \u001b[0m\u001b[1m LengthofStay \u001b[0m\u001b[1m WBC       \u001b[0m\u001b[1m RBC      \u001b[0m\u001b[1m BMI      \u001b[0m\u001b[1m IL6       \u001b[0m\u001b[1m CRP        \u001b[0m\u001b[1m DID       \u001b[0m\u001b[1m Experience \u001b[0m\u001b[1m School  \u001b[0m\u001b[1m Lawsuits  \u001b[0m\u001b[1m HID         \u001b[0m\u001b[1m Medicaid  \u001b[0m\n",
      "\u001b[1m     \u001b[0m│\u001b[90m Float64    \u001b[0m\u001b[90m Float64   \u001b[0m\u001b[90m Float64   \u001b[0m\u001b[90m Float64    \u001b[0m\u001b[90m Float64    \u001b[0m\u001b[90m Float64 \u001b[0m\u001b[90m Float64   \u001b[0m\u001b[90m Float64   \u001b[0m\u001b[90m Float64      \u001b[0m\u001b[90m Float64   \u001b[0m\u001b[90m Float64   \u001b[0m\u001b[90m Float64  \u001b[0m\u001b[90m Float64   \u001b[0m\u001b[90m Float64 \u001b[0m\u001b[90m Float64     \u001b[0m\u001b[90m Float64      \u001b[0m\u001b[90m Float64   \u001b[0m\u001b[90m Float64  \u001b[0m\u001b[90m Float64  \u001b[0m\u001b[90m Float64   \u001b[0m\u001b[90m Float64    \u001b[0m\u001b[90m Float64   \u001b[0m\u001b[90m Float64    \u001b[0m\u001b[90m Float64 \u001b[0m\u001b[90m Float64   \u001b[0m\u001b[90m Float64     \u001b[0m\u001b[90m Float64   \u001b[0m\n",
      "─────┼───────────────────────────────────────────────────────────────────────────────────────────────────────────────────────────────────────────────────────────────────────────────────────────────────────────────────────────────────────────────────────────────────────────────────────────────────────────────\n",
      "   3 │ 0.00776769  0.0103158  0.0114483  0.00547805  0.00346083      0.0        0.0        0.0    0.00770971  0.0112504  0.0139823       0.0  0.0134337      0.0    0.0074731    0.00968474  0.0107651  0.010836  0.010707  0.0305267  0.00745027  4.5926e-5   0.0149546      0.0  0.0136182  0.000528598  0.0118698\n",
      "\n",
      "\n",
      "\u001b[1mDataFrameRow\u001b[0m\n",
      "\u001b[1m Row \u001b[0m│\u001b[1m tumorsize \u001b[0m\u001b[1m co2       \u001b[0m\u001b[1m pain       \u001b[0m\u001b[1m wound      \u001b[0m\u001b[1m mobility   \u001b[0m\u001b[1m ntumors \u001b[0m\u001b[1m nmorphine \u001b[0m\u001b[1m remission \u001b[0m\u001b[1m lungcapacity \u001b[0m\u001b[1m Age      \u001b[0m\u001b[1m Married   \u001b[0m\u001b[1m FamilyHx \u001b[0m\u001b[1m SmokingHx \u001b[0m\u001b[1m Sex     \u001b[0m\u001b[1m CancerStage \u001b[0m\u001b[1m LengthofStay \u001b[0m\u001b[1m WBC       \u001b[0m\u001b[1m RBC       \u001b[0m\u001b[1m BMI        \u001b[0m\u001b[1m IL6        \u001b[0m\u001b[1m CRP       \u001b[0m\u001b[1m DID       \u001b[0m\u001b[1m Experience \u001b[0m\u001b[1m School  \u001b[0m\u001b[1m Lawsuits  \u001b[0m\u001b[1m HID         \u001b[0m\u001b[1m Medicaid  \u001b[0m\n",
      "\u001b[1m     \u001b[0m│\u001b[90m Float64   \u001b[0m\u001b[90m Float64   \u001b[0m\u001b[90m Float64    \u001b[0m\u001b[90m Float64    \u001b[0m\u001b[90m Float64    \u001b[0m\u001b[90m Float64 \u001b[0m\u001b[90m Float64   \u001b[0m\u001b[90m Float64   \u001b[0m\u001b[90m Float64      \u001b[0m\u001b[90m Float64  \u001b[0m\u001b[90m Float64   \u001b[0m\u001b[90m Float64  \u001b[0m\u001b[90m Float64   \u001b[0m\u001b[90m Float64 \u001b[0m\u001b[90m Float64     \u001b[0m\u001b[90m Float64      \u001b[0m\u001b[90m Float64   \u001b[0m\u001b[90m Float64   \u001b[0m\u001b[90m Float64    \u001b[0m\u001b[90m Float64    \u001b[0m\u001b[90m Float64   \u001b[0m\u001b[90m Float64   \u001b[0m\u001b[90m Float64    \u001b[0m\u001b[90m Float64 \u001b[0m\u001b[90m Float64   \u001b[0m\u001b[90m Float64     \u001b[0m\u001b[90m Float64   \u001b[0m\n",
      "─────┼─────────────────────────────────────────────────────────────────────────────────────────────────────────────────────────────────────────────────────────────────────────────────────────────────────────────────────────────────────────────────────────────────────────────────────────────────────────────────\n",
      "   7 │ 0.0118875  0.0114808  0.00572417  0.00730406  0.00346083      0.0        0.0        0.0     0.0121555  0.011352  0.0139823       0.0        0.0      0.0    0.0074731    0.00774779  0.0111101  0.0105417  0.00766964  0.00503768  0.0158972  4.5926e-5   0.0149546      0.0  0.0136182  0.000528598  0.0118698\n",
      "\n",
      "\n"
     ]
    }
   ],
   "source": [
    "j = 1\n",
    "cnt = 0;\n",
    "for i in silhouettes(assign, distances)\n",
    "    if cnt == 3\n",
    "        break\n",
    "    end\n",
    "    if i < 0\n",
    "        println(original[j, :],\"\\n\\n\")\n",
    "        cnt += 1\n",
    "    end\n",
    "    j += 1\n",
    "end"
   ]
  },
  {
   "cell_type": "markdown",
   "id": "guided-congo",
   "metadata": {},
   "source": [
    "# GMM"
   ]
  },
  {
   "cell_type": "code",
   "execution_count": null,
   "id": "endangered-africa",
   "metadata": {},
   "outputs": [],
   "source": []
  }
 ],
 "metadata": {
  "kernelspec": {
   "display_name": "Julia 1.5.3",
   "language": "julia",
   "name": "julia-1.5"
  },
  "language_info": {
   "file_extension": ".jl",
   "mimetype": "application/julia",
   "name": "julia",
   "version": "1.5.3"
  }
 },
 "nbformat": 4,
 "nbformat_minor": 5
}
